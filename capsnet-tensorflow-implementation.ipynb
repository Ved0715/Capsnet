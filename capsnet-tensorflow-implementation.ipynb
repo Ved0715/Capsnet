{
 "cells": [
  {
   "cell_type": "markdown",
   "metadata": {
    "papermill": {
     "duration": 0.117153,
     "end_time": "2024-03-21T12:54:33.457352",
     "exception": false,
     "start_time": "2024-03-21T12:54:33.340199",
     "status": "completed"
    },
    "tags": []
   },
   "source": [
    "# Capsule Networks (CapsNets)"
   ]
  },
  {
   "cell_type": "markdown",
   "metadata": {
    "papermill": {
     "duration": 0.113661,
     "end_time": "2024-03-21T12:54:33.684779",
     "exception": false,
     "start_time": "2024-03-21T12:54:33.571118",
     "status": "completed"
    },
    "tags": []
   },
   "source": []
  },
  {
   "cell_type": "code",
   "execution_count": 1,
   "metadata": {
    "_cell_guid": "b1076dfc-b9ad-4769-8c92-a6c4dae69d19",
    "_uuid": "8f2839f25d086af736a60e9eeb907d3b93b6e0e5",
    "execution": {
     "iopub.execute_input": "2024-03-21T12:54:33.919605Z",
     "iopub.status.busy": "2024-03-21T12:54:33.918985Z",
     "iopub.status.idle": "2024-03-21T12:54:33.922363Z",
     "shell.execute_reply": "2024-03-21T12:54:33.921868Z",
     "shell.execute_reply.started": "2024-03-21T12:22:59.265875Z"
    },
    "papermill": {
     "duration": 0.123069,
     "end_time": "2024-03-21T12:54:33.922498",
     "exception": false,
     "start_time": "2024-03-21T12:54:33.799429",
     "status": "completed"
    },
    "tags": []
   },
   "outputs": [],
   "source": [
    "# This Python 3 environment comes with many helpful analytics libraries installed\n",
    "# It is defined by the kaggle/python Docker image: https://github.com/kaggle/docker-python\n",
    "# For example, here's several helpful packages to load\n",
    "\n",
    "import numpy as np # linear algebra\n",
    "import pandas as pd # data processing, CSV file I/O (e.g. pd.read_csv)\n",
    "\n",
    "# Input data files are available in the read-only \"../input/\" directory\n",
    "# For example, running this (by clicking run or pressing Shift+Enter) will list all files under the input directory\n",
    "\n",
    "import os\n",
    "for dirname, _, filenames in os.walk('/kaggle/input'):\n",
    "    for filename in filenames:\n",
    "        print(os.path.join(dirname, filename))\n",
    "\n",
    "# You can write up to 5GB to the current directory (/kaggle/working/) that gets preserved as output when you create a version using \"Save & Run All\" \n",
    "# You can also write temporary files to /kaggle/temp/, but they won't be saved outside of the current session"
   ]
  },
  {
   "cell_type": "markdown",
   "metadata": {
    "papermill": {
     "duration": 0.114662,
     "end_time": "2024-03-21T12:54:34.151629",
     "exception": false,
     "start_time": "2024-03-21T12:54:34.036967",
     "status": "completed"
    },
    "tags": []
   },
   "source": [
    "# Introduction"
   ]
  },
  {
   "cell_type": "markdown",
   "metadata": {
    "papermill": {
     "duration": 0.113665,
     "end_time": "2024-03-21T12:54:34.378792",
     "exception": false,
     "start_time": "2024-03-21T12:54:34.265127",
     "status": "completed"
    },
    "tags": []
   },
   "source": [
    "[This video](https://youtu.be/pPN8d0E3900) explain the key ideas behind Capsule Networks:"
   ]
  },
  {
   "cell_type": "code",
   "execution_count": 2,
   "metadata": {
    "execution": {
     "iopub.execute_input": "2024-03-21T12:54:34.611031Z",
     "iopub.status.busy": "2024-03-21T12:54:34.610425Z",
     "iopub.status.idle": "2024-03-21T12:54:34.619599Z",
     "shell.execute_reply": "2024-03-21T12:54:34.619094Z",
     "shell.execute_reply.started": "2024-03-21T12:23:04.583476Z"
    },
    "papermill": {
     "duration": 0.126909,
     "end_time": "2024-03-21T12:54:34.619697",
     "exception": false,
     "start_time": "2024-03-21T12:54:34.492788",
     "status": "completed"
    },
    "tags": []
   },
   "outputs": [
    {
     "name": "stderr",
     "output_type": "stream",
     "text": [
      "/opt/conda/lib/python3.7/site-packages/IPython/core/display.py:701: UserWarning: Consider using IPython.display.IFrame instead\n",
      "  warnings.warn(\"Consider using IPython.display.IFrame instead\")\n"
     ]
    },
    {
     "data": {
      "text/html": [
       "<iframe width=\"560\" height=\"315\" src=\"https://www.youtube.com/embed/pPN8d0E3900\" frameborder=\"0\" allowfullscreen></iframe>"
      ],
      "text/plain": [
       "<IPython.core.display.HTML object>"
      ]
     },
     "execution_count": 2,
     "metadata": {},
     "output_type": "execute_result"
    }
   ],
   "source": [
    "from IPython.display import HTML\n",
    "HTML(\"\"\"<iframe width=\"560\" height=\"315\" src=\"https://www.youtube.com/embed/pPN8d0E3900\" frameborder=\"0\" allowfullscreen></iframe>\"\"\")"
   ]
  },
  {
   "cell_type": "markdown",
   "metadata": {
    "papermill": {
     "duration": 0.117753,
     "end_time": "2024-03-21T12:54:34.852403",
     "exception": false,
     "start_time": "2024-03-21T12:54:34.734650",
     "status": "completed"
    },
    "tags": []
   },
   "source": [
    "[This video](https://youtu.be/2Kawrd5szHE) presents the main difficulties of this notebook:"
   ]
  },
  {
   "cell_type": "code",
   "execution_count": 3,
   "metadata": {
    "execution": {
     "iopub.execute_input": "2024-03-21T12:54:35.087416Z",
     "iopub.status.busy": "2024-03-21T12:54:35.086748Z",
     "iopub.status.idle": "2024-03-21T12:54:35.090396Z",
     "shell.execute_reply": "2024-03-21T12:54:35.089896Z",
     "shell.execute_reply.started": "2024-03-21T12:23:11.641167Z"
    },
    "papermill": {
     "duration": 0.123681,
     "end_time": "2024-03-21T12:54:35.090504",
     "exception": false,
     "start_time": "2024-03-21T12:54:34.966823",
     "status": "completed"
    },
    "tags": []
   },
   "outputs": [
    {
     "data": {
      "text/html": [
       "<iframe width=\"560\" height=\"315\" src=\"https://www.youtube.com/embed/2Kawrd5szHE\" frameborder=\"0\" allowfullscreen></iframe>"
      ],
      "text/plain": [
       "<IPython.core.display.HTML object>"
      ]
     },
     "execution_count": 3,
     "metadata": {},
     "output_type": "execute_result"
    }
   ],
   "source": [
    "HTML(\"\"\"<iframe width=\"560\" height=\"315\" src=\"https://www.youtube.com/embed/2Kawrd5szHE\" frameborder=\"0\" allowfullscreen></iframe>\"\"\")"
   ]
  },
  {
   "cell_type": "markdown",
   "metadata": {
    "papermill": {
     "duration": 0.114925,
     "end_time": "2024-03-21T12:54:35.320301",
     "exception": false,
     "start_time": "2024-03-21T12:54:35.205376",
     "status": "completed"
    },
    "tags": []
   },
   "source": [
    "# Imports"
   ]
  },
  {
   "cell_type": "markdown",
   "metadata": {
    "papermill": {
     "duration": 0.11571,
     "end_time": "2024-03-21T12:54:35.550970",
     "exception": false,
     "start_time": "2024-03-21T12:54:35.435260",
     "status": "completed"
    },
    "tags": []
   },
   "source": [
    "\n",
    "\n",
    "To support both Python 2 and Python 3:\n"
   ]
  },
  {
   "cell_type": "code",
   "execution_count": 4,
   "metadata": {
    "execution": {
     "iopub.execute_input": "2024-03-21T12:54:35.824718Z",
     "iopub.status.busy": "2024-03-21T12:54:35.824084Z",
     "iopub.status.idle": "2024-03-21T12:54:35.827635Z",
     "shell.execute_reply": "2024-03-21T12:54:35.828110Z",
     "shell.execute_reply.started": "2024-03-21T12:23:16.619489Z"
    },
    "papermill": {
     "duration": 0.162581,
     "end_time": "2024-03-21T12:54:35.828225",
     "exception": false,
     "start_time": "2024-03-21T12:54:35.665644",
     "status": "completed"
    },
    "tags": []
   },
   "outputs": [],
   "source": [
    "from __future__ import division, print_function, unicode_literals"
   ]
  },
  {
   "cell_type": "markdown",
   "metadata": {
    "papermill": {
     "duration": 0.117143,
     "end_time": "2024-03-21T12:54:36.061716",
     "exception": false,
     "start_time": "2024-03-21T12:54:35.944573",
     "status": "completed"
    },
    "tags": []
   },
   "source": [
    "Import matplotlib to plot pretty figures:"
   ]
  },
  {
   "cell_type": "code",
   "execution_count": 5,
   "metadata": {
    "execution": {
     "iopub.execute_input": "2024-03-21T12:54:36.300859Z",
     "iopub.status.busy": "2024-03-21T12:54:36.300176Z",
     "iopub.status.idle": "2024-03-21T12:54:36.302642Z",
     "shell.execute_reply": "2024-03-21T12:54:36.303106Z",
     "shell.execute_reply.started": "2024-03-21T12:23:19.856163Z"
    },
    "papermill": {
     "duration": 0.126348,
     "end_time": "2024-03-21T12:54:36.303231",
     "exception": false,
     "start_time": "2024-03-21T12:54:36.176883",
     "status": "completed"
    },
    "tags": []
   },
   "outputs": [],
   "source": [
    "%matplotlib inline\n",
    "import matplotlib\n",
    "import matplotlib.pyplot as plt"
   ]
  },
  {
   "cell_type": "code",
   "execution_count": 6,
   "metadata": {
    "execution": {
     "iopub.execute_input": "2024-03-21T12:54:36.539624Z",
     "iopub.status.busy": "2024-03-21T12:54:36.538991Z",
     "iopub.status.idle": "2024-03-21T12:54:41.993422Z",
     "shell.execute_reply": "2024-03-21T12:54:41.992808Z",
     "shell.execute_reply.started": "2024-03-21T12:23:22.235099Z"
    },
    "papermill": {
     "duration": 5.573723,
     "end_time": "2024-03-21T12:54:41.993575",
     "exception": false,
     "start_time": "2024-03-21T12:54:36.419852",
     "status": "completed"
    },
    "tags": []
   },
   "outputs": [
    {
     "name": "stdout",
     "output_type": "stream",
     "text": [
      "2.3.0\n"
     ]
    }
   ],
   "source": [
    "import tensorflow as tf\n",
    "print(tf.__version__)"
   ]
  },
  {
   "cell_type": "markdown",
   "metadata": {
    "papermill": {
     "duration": 0.117079,
     "end_time": "2024-03-21T12:54:42.228652",
     "exception": false,
     "start_time": "2024-03-21T12:54:42.111573",
     "status": "completed"
    },
    "tags": []
   },
   "source": [
    "## Reproducibility\n",
    "\n",
    "Let's reset the default graph, in case you re-run this notebook without restarting the kernel:"
   ]
  },
  {
   "cell_type": "code",
   "execution_count": 7,
   "metadata": {
    "execution": {
     "iopub.execute_input": "2024-03-21T12:54:42.465589Z",
     "iopub.status.busy": "2024-03-21T12:54:42.464936Z",
     "iopub.status.idle": "2024-03-21T12:54:42.467886Z",
     "shell.execute_reply": "2024-03-21T12:54:42.467253Z",
     "shell.execute_reply.started": "2024-03-21T12:23:28.141440Z"
    },
    "papermill": {
     "duration": 0.123069,
     "end_time": "2024-03-21T12:54:42.467989",
     "exception": false,
     "start_time": "2024-03-21T12:54:42.344920",
     "status": "completed"
    },
    "tags": []
   },
   "outputs": [],
   "source": [
    "#tf.reset_default_graph()\n",
    "from tensorflow.python.framework import ops\n",
    "ops.reset_default_graph()"
   ]
  },
  {
   "cell_type": "markdown",
   "metadata": {
    "papermill": {
     "duration": 0.116254,
     "end_time": "2024-03-21T12:54:42.699608",
     "exception": false,
     "start_time": "2024-03-21T12:54:42.583354",
     "status": "completed"
    },
    "tags": []
   },
   "source": [
    "\n",
    "\n",
    "Let's set the random seeds so that this notebook always produces the same output:\n"
   ]
  },
  {
   "cell_type": "code",
   "execution_count": 8,
   "metadata": {
    "execution": {
     "iopub.execute_input": "2024-03-21T12:54:42.939508Z",
     "iopub.status.busy": "2024-03-21T12:54:42.938898Z",
     "iopub.status.idle": "2024-03-21T12:54:42.942051Z",
     "shell.execute_reply": "2024-03-21T12:54:42.941437Z",
     "shell.execute_reply.started": "2024-03-21T12:23:28.147505Z"
    },
    "papermill": {
     "duration": 0.125022,
     "end_time": "2024-03-21T12:54:42.942153",
     "exception": false,
     "start_time": "2024-03-21T12:54:42.817131",
     "status": "completed"
    },
    "tags": []
   },
   "outputs": [],
   "source": [
    "np.random.seed(42)\n",
    "#tf.set_random_seed(42)\n",
    "tf.random.set_seed(45)"
   ]
  },
  {
   "cell_type": "code",
   "execution_count": 9,
   "metadata": {
    "execution": {
     "iopub.execute_input": "2024-03-21T12:54:43.176760Z",
     "iopub.status.busy": "2024-03-21T12:54:43.176132Z",
     "iopub.status.idle": "2024-03-21T12:54:43.178982Z",
     "shell.execute_reply": "2024-03-21T12:54:43.178336Z",
     "shell.execute_reply.started": "2024-03-21T12:23:31.241313Z"
    },
    "papermill": {
     "duration": 0.121158,
     "end_time": "2024-03-21T12:54:43.179080",
     "exception": false,
     "start_time": "2024-03-21T12:54:43.057922",
     "status": "completed"
    },
    "tags": []
   },
   "outputs": [],
   "source": [
    "#from tensorflow.examples.tutorials.mnist import input_data\n",
    "#mnist = input_data.read_data_sets(\"/tmp/data/\")"
   ]
  },
  {
   "cell_type": "markdown",
   "metadata": {
    "papermill": {
     "duration": 0.115485,
     "end_time": "2024-03-21T12:54:43.410373",
     "exception": false,
     "start_time": "2024-03-21T12:54:43.294888",
     "status": "completed"
    },
    "tags": []
   },
   "source": [
    "# Load MNIST"
   ]
  },
  {
   "cell_type": "code",
   "execution_count": 10,
   "metadata": {
    "execution": {
     "iopub.execute_input": "2024-03-21T12:54:43.650101Z",
     "iopub.status.busy": "2024-03-21T12:54:43.649203Z",
     "iopub.status.idle": "2024-03-21T12:54:45.023922Z",
     "shell.execute_reply": "2024-03-21T12:54:45.024400Z",
     "shell.execute_reply.started": "2024-03-21T12:23:32.140459Z"
    },
    "papermill": {
     "duration": 1.497872,
     "end_time": "2024-03-21T12:54:45.024585",
     "exception": false,
     "start_time": "2024-03-21T12:54:43.526713",
     "status": "completed"
    },
    "tags": []
   },
   "outputs": [
    {
     "name": "stdout",
     "output_type": "stream",
     "text": [
      "Downloading data from https://storage.googleapis.com/tensorflow/tf-keras-datasets/mnist.npz\n",
      "11493376/11490434 [==============================] - 1s 0us/step\n"
     ]
    }
   ],
   "source": [
    "from tensorflow.keras.datasets import mnist\n",
    "from tensorflow.keras.utils import to_categorical\n",
    "# mnist = mnist.load_data()\n",
    "(X_train, Y_train), (X_test, Y_test) = mnist.load_data()\n",
    "X_train = X_train.reshape(-1, 28, 28, 1).astype('float32') / 255.\n",
    "X_test = X_test.reshape(-1, 28, 28, 1).astype('float32') / 255.\n",
    "#Y_train = to_categorical(Y_train.astype('float32'))\n",
    "#Y_test = to_categorical(Y_test.astype('float32'))"
   ]
  },
  {
   "cell_type": "code",
   "execution_count": 11,
   "metadata": {
    "execution": {
     "iopub.execute_input": "2024-03-21T12:54:45.288521Z",
     "iopub.status.busy": "2024-03-21T12:54:45.287549Z",
     "iopub.status.idle": "2024-03-21T12:54:45.290753Z",
     "shell.execute_reply": "2024-03-21T12:54:45.291347Z",
     "shell.execute_reply.started": "2024-03-21T12:23:35.210492Z"
    },
    "papermill": {
     "duration": 0.138254,
     "end_time": "2024-03-21T12:54:45.291522",
     "exception": false,
     "start_time": "2024-03-21T12:54:45.153268",
     "status": "completed"
    },
    "tags": []
   },
   "outputs": [
    {
     "data": {
      "text/plain": [
       "(60000, 28, 28, 1)"
      ]
     },
     "execution_count": 11,
     "metadata": {},
     "output_type": "execute_result"
    }
   ],
   "source": [
    "X_train.shape"
   ]
  },
  {
   "cell_type": "markdown",
   "metadata": {
    "papermill": {
     "duration": 0.120643,
     "end_time": "2024-03-21T12:54:45.537342",
     "exception": false,
     "start_time": "2024-03-21T12:54:45.416699",
     "status": "completed"
    },
    "tags": []
   },
   "source": [
    "Let's look at what these hand-written digit images look like:"
   ]
  },
  {
   "cell_type": "code",
   "execution_count": 12,
   "metadata": {
    "execution": {
     "iopub.execute_input": "2024-03-21T12:54:45.796593Z",
     "iopub.status.busy": "2024-03-21T12:54:45.795801Z",
     "iopub.status.idle": "2024-03-21T12:54:45.997608Z",
     "shell.execute_reply": "2024-03-21T12:54:45.996969Z",
     "shell.execute_reply.started": "2024-03-21T12:23:36.067294Z"
    },
    "papermill": {
     "duration": 0.339049,
     "end_time": "2024-03-21T12:54:45.997719",
     "exception": false,
     "start_time": "2024-03-21T12:54:45.658670",
     "status": "completed"
    },
    "tags": []
   },
   "outputs": [
    {
     "data": {
      "image/png": "[encoded data removed]",
      "text/plain": [
       "<Figure size 720x216 with 5 Axes>"
      ]
     },
     "metadata": {
      "needs_background": "light"
     },
     "output_type": "display_data"
    }
   ],
   "source": [
    "n_samples = 5\n",
    "\n",
    "plt.figure(figsize=(n_samples * 2, 3))\n",
    "for index in range(n_samples):\n",
    "    plt.subplot(1, n_samples, index + 1)\n",
    "    sample_image = X_train[index].reshape(28, 28)\n",
    "    plt.imshow(sample_image, cmap=\"binary\")\n",
    "    plt.axis(\"off\")\n",
    "\n",
    "plt.show()"
   ]
  },
  {
   "cell_type": "markdown",
   "metadata": {
    "papermill": {
     "duration": 0.122767,
     "end_time": "2024-03-21T12:54:46.244628",
     "exception": false,
     "start_time": "2024-03-21T12:54:46.121861",
     "status": "completed"
    },
    "tags": []
   },
   "source": [
    "And these are the corresponding labels:"
   ]
  },
  {
   "cell_type": "code",
   "execution_count": 13,
   "metadata": {
    "execution": {
     "iopub.execute_input": "2024-03-21T12:54:46.498283Z",
     "iopub.status.busy": "2024-03-21T12:54:46.497572Z",
     "iopub.status.idle": "2024-03-21T12:54:46.501618Z",
     "shell.execute_reply": "2024-03-21T12:54:46.501002Z",
     "shell.execute_reply.started": "2024-03-21T12:23:37.357540Z"
    },
    "papermill": {
     "duration": 0.133027,
     "end_time": "2024-03-21T12:54:46.501723",
     "exception": false,
     "start_time": "2024-03-21T12:54:46.368696",
     "status": "completed"
    },
    "tags": []
   },
   "outputs": [
    {
     "data": {
      "text/plain": [
       "array([5, 0, 4, 1, 9], dtype=uint8)"
      ]
     },
     "execution_count": 13,
     "metadata": {},
     "output_type": "execute_result"
    }
   ],
   "source": [
    "Y_train[:n_samples]"
   ]
  },
  {
   "cell_type": "markdown",
   "metadata": {
    "papermill": {
     "duration": 0.124843,
     "end_time": "2024-03-21T12:54:46.750180",
     "exception": false,
     "start_time": "2024-03-21T12:54:46.625337",
     "status": "completed"
    },
    "tags": []
   },
   "source": [
    "Now let's build a Capsule Network to classify these images. Here's the overall architecture, enjoy the ASCII art! ;-) Note: for readability, I left out two arrows: Labels → Mask, and Input Images → Reconstruction Loss.\n",
    " \n",
    "\n",
    "                            Loss\n",
    "                              ↑\n",
    "                    ┌─────────┴─────────┐\n",
    "      Labels → Margin Loss      Reconstruction Loss\n",
    "                    ↑                   ↑\n",
    "                  Length             Decoder\n",
    "                    ↑                   ↑ \n",
    "             Digit Capsules ────Mask────┘\n",
    "               ↖↑↗ ↖↑↗ ↖↑↗\n",
    "             Primary Capsules\n",
    "                    ↑      \n",
    "               Input Images\n",
    "\n",
    "\n",
    "We are going to build the graph starting from the bottom layer, and gradually move up, left side first. Let's go!"
   ]
  },
  {
   "cell_type": "markdown",
   "metadata": {
    "papermill": {
     "duration": 0.122374,
     "end_time": "2024-03-21T12:54:47.012998",
     "exception": false,
     "start_time": "2024-03-21T12:54:46.890624",
     "status": "completed"
    },
    "tags": []
   },
   "source": [
    "# Input Images\n",
    "Let's start by creating a placeholder for the input images (28×28 pixels, 1 color channel = grayscale)."
   ]
  },
  {
   "cell_type": "code",
   "execution_count": 14,
   "metadata": {
    "execution": {
     "iopub.execute_input": "2024-03-21T12:54:47.271081Z",
     "iopub.status.busy": "2024-03-21T12:54:47.270477Z",
     "iopub.status.idle": "2024-03-21T12:54:47.286925Z",
     "shell.execute_reply": "2024-03-21T12:54:47.286279Z",
     "shell.execute_reply.started": "2024-03-21T12:23:40.296798Z"
    },
    "papermill": {
     "duration": 0.147847,
     "end_time": "2024-03-21T12:54:47.287030",
     "exception": false,
     "start_time": "2024-03-21T12:54:47.139183",
     "status": "completed"
    },
    "tags": []
   },
   "outputs": [],
   "source": [
    "#X = tf.placeholder(shape=[None, 28, 28, 1], dtype=tf.float32, name=\"X\") # original not working\n",
    "tf.compat.v1.disable_eager_execution()\n",
    "X = tf.compat.v1.placeholder(shape=[None, 28, 28, 1], dtype=tf.float32, name=\"X\")"
   ]
  },
  {
   "cell_type": "markdown",
   "metadata": {
    "papermill": {
     "duration": 0.122583,
     "end_time": "2024-03-21T12:54:47.532659",
     "exception": false,
     "start_time": "2024-03-21T12:54:47.410076",
     "status": "completed"
    },
    "tags": []
   },
   "source": [
    "Note1: [check in this link why I disabled eager execution](https://stackoverflow.com/questions/56561734/runtimeerror-tf-placeholder-is-not-compatible-with-eager-execution) <br>\n",
    "Note2: [What tf.compat means](https://stackoverflow.com/questions/60406140/attributeerror-module-tensorflow-has-no-attribute-layers)"
   ]
  },
  {
   "cell_type": "markdown",
   "metadata": {
    "papermill": {
     "duration": 0.123186,
     "end_time": "2024-03-21T12:54:47.778137",
     "exception": false,
     "start_time": "2024-03-21T12:54:47.654951",
     "status": "completed"
    },
    "tags": []
   },
   "source": [
    "# Primary Capsules\n",
    "The first layer will be composed of 32 maps of 6×6 capsules each, where each capsule will output an 8D activation vector:"
   ]
  },
  {
   "cell_type": "code",
   "execution_count": 15,
   "metadata": {
    "execution": {
     "iopub.execute_input": "2024-03-21T12:54:48.031206Z",
     "iopub.status.busy": "2024-03-21T12:54:48.030536Z",
     "iopub.status.idle": "2024-03-21T12:54:48.033547Z",
     "shell.execute_reply": "2024-03-21T12:54:48.032908Z",
     "shell.execute_reply.started": "2024-03-21T12:23:43.435669Z"
    },
    "papermill": {
     "duration": 0.130494,
     "end_time": "2024-03-21T12:54:48.033654",
     "exception": false,
     "start_time": "2024-03-21T12:54:47.903160",
     "status": "completed"
    },
    "tags": []
   },
   "outputs": [],
   "source": [
    "caps1_n_maps = 32\n",
    "caps1_n_caps = caps1_n_maps * 6 * 6  # 1152 primary capsules\n",
    "caps1_n_dims = 8"
   ]
  },
  {
   "cell_type": "markdown",
   "metadata": {
    "papermill": {
     "duration": 0.122124,
     "end_time": "2024-03-21T12:54:48.279092",
     "exception": false,
     "start_time": "2024-03-21T12:54:48.156968",
     "status": "completed"
    },
    "tags": []
   },
   "source": [
    "To compute their outputs, we first apply two regular convolutional layers:"
   ]
  },
  {
   "cell_type": "code",
   "execution_count": 16,
   "metadata": {
    "execution": {
     "iopub.execute_input": "2024-03-21T12:54:48.530471Z",
     "iopub.status.busy": "2024-03-21T12:54:48.529861Z",
     "iopub.status.idle": "2024-03-21T12:54:48.532744Z",
     "shell.execute_reply": "2024-03-21T12:54:48.532159Z",
     "shell.execute_reply.started": "2024-03-21T12:23:44.782326Z"
    },
    "papermill": {
     "duration": 0.130968,
     "end_time": "2024-03-21T12:54:48.532841",
     "exception": false,
     "start_time": "2024-03-21T12:54:48.401873",
     "status": "completed"
    },
    "tags": []
   },
   "outputs": [],
   "source": [
    "conv1_params = {\n",
    "    \"filters\": 256,\n",
    "    \"kernel_size\": 9,\n",
    "    \"strides\": 1,\n",
    "    \"padding\": \"valid\",\n",
    "    \"activation\": tf.nn.relu,\n",
    "}\n",
    "\n",
    "conv2_params = {\n",
    "    \"filters\": caps1_n_maps * caps1_n_dims, # 256 convolutional filters\n",
    "    \"kernel_size\": 9,\n",
    "    \"strides\": 2,\n",
    "    \"padding\": \"valid\",\n",
    "    \"activation\": tf.nn.relu\n",
    "}"
   ]
  },
  {
   "cell_type": "code",
   "execution_count": 17,
   "metadata": {
    "execution": {
     "iopub.execute_input": "2024-03-21T12:54:48.783688Z",
     "iopub.status.busy": "2024-03-21T12:54:48.783018Z",
     "iopub.status.idle": "2024-03-21T12:54:48.831410Z",
     "shell.execute_reply": "2024-03-21T12:54:48.830832Z",
     "shell.execute_reply.started": "2024-03-21T12:23:45.434206Z"
    },
    "papermill": {
     "duration": 0.176041,
     "end_time": "2024-03-21T12:54:48.831541",
     "exception": false,
     "start_time": "2024-03-21T12:54:48.655500",
     "status": "completed"
    },
    "tags": []
   },
   "outputs": [],
   "source": [
    "conv1 = tf.compat.v1.layers.conv2d(X, name=\"conv1\", **conv1_params)\n",
    "conv2 = tf.compat.v1.layers.conv2d(conv1, name=\"conv2\", **conv2_params)"
   ]
  },
  {
   "cell_type": "markdown",
   "metadata": {
    "papermill": {
     "duration": 0.1324,
     "end_time": "2024-03-21T12:54:49.116190",
     "exception": false,
     "start_time": "2024-03-21T12:54:48.983790",
     "status": "completed"
    },
    "tags": []
   },
   "source": [
    "Note: since we used a kernel size of 9 and no padding (for some reason, that's what \"valid\" means), the image shrunk by 9-1=8 pixels after each convolutional layer (28×28 to 20×20, then 20×20 to 12×12), and since we used a stride of 2 in the second convolutional layer, the image size was divided by 2. This is how we end up with 6×6 feature maps."
   ]
  },
  {
   "cell_type": "markdown",
   "metadata": {
    "papermill": {
     "duration": 0.128878,
     "end_time": "2024-03-21T12:54:49.394015",
     "exception": false,
     "start_time": "2024-03-21T12:54:49.265137",
     "status": "completed"
    },
    "tags": []
   },
   "source": [
    "!!! Insert a Figure Here!!!"
   ]
  },
  {
   "cell_type": "markdown",
   "metadata": {
    "papermill": {
     "duration": 0.122569,
     "end_time": "2024-03-21T12:54:49.640191",
     "exception": false,
     "start_time": "2024-03-21T12:54:49.517622",
     "status": "completed"
    },
    "tags": []
   },
   "source": [
    "Next, we reshape the output to get a bunch of 8D vectors representing the outputs of the primary capsules. The output of conv2 is an array containing 32×8=256 feature maps for each instance, where each feature map is 6×6. So the shape of this output is (batch size, 6, 6, 256). We want to chop the 256 into 32 vectors of 8 dimensions each. We could do this by reshaping to (batch size, 6, 6, 32, 8). However, since this first capsule layer will be fully connected to the next capsule layer, we can simply flatten the 6×6 grids. This means we just need to reshape to (batch size, 6×6×32, 8)."
   ]
  },
  {
   "cell_type": "code",
   "execution_count": 18,
   "metadata": {
    "execution": {
     "iopub.execute_input": "2024-03-21T12:54:49.898134Z",
     "iopub.status.busy": "2024-03-21T12:54:49.897401Z",
     "iopub.status.idle": "2024-03-21T12:54:49.900442Z",
     "shell.execute_reply": "2024-03-21T12:54:49.899847Z",
     "shell.execute_reply.started": "2024-03-21T12:23:47.850964Z"
    },
    "papermill": {
     "duration": 0.13583,
     "end_time": "2024-03-21T12:54:49.900583",
     "exception": false,
     "start_time": "2024-03-21T12:54:49.764753",
     "status": "completed"
    },
    "tags": []
   },
   "outputs": [],
   "source": [
    "caps1_raw = tf.reshape(conv2, [-1, caps1_n_caps, caps1_n_dims],\n",
    "                       name=\"caps1_raw\")"
   ]
  },
  {
   "cell_type": "markdown",
   "metadata": {
    "papermill": {
     "duration": 0.123401,
     "end_time": "2024-03-21T12:54:50.146264",
     "exception": false,
     "start_time": "2024-03-21T12:54:50.022863",
     "status": "completed"
    },
    "tags": []
   },
   "source": [
    "Now we need to squash these vectors. Let's define the squash() function, based on equation (1) from the paper:\n",
    "\n",
    "$\\operatorname{squash}(\\mathbf{s}) = \\dfrac{\\|\\mathbf{s}\\|^2}{1 + \\|\\mathbf{s}\\|^2} \\dfrac{\\mathbf{s}}{\\|\\mathbf{s}\\|}$\n",
    "\n",
    "The squash() function will squash all vectors in the given array, along the given axis (by default, the last axis).\n",
    "\n",
    "Caution, a nasty bug is waiting to bite you: the derivative of $\\|\\mathbf{s}\\|$ is undefined when $\\|\\mathbf{s}\\|=0$, so we can't just use tf.norm(), or else it will blow up during training: if a vector is zero, the gradients will be nan, so when the optimizer updates the variables, they will also become nan, and from then on you will be stuck in nan land. The solution is to implement the norm manually by computing the square root of the sum of squares plus a tiny epsilon value: $\\|\\mathbf{s}\\| \\approx \\sqrt{\\sum\\limits_i{{s_i}^2}\\,\\,+ \\epsilon}$."
   ]
  },
  {
   "cell_type": "code",
   "execution_count": 19,
   "metadata": {
    "execution": {
     "iopub.execute_input": "2024-03-21T12:54:50.399610Z",
     "iopub.status.busy": "2024-03-21T12:54:50.399006Z",
     "iopub.status.idle": "2024-03-21T12:54:50.402174Z",
     "shell.execute_reply": "2024-03-21T12:54:50.401545Z",
     "shell.execute_reply.started": "2024-03-21T12:23:48.722371Z"
    },
    "papermill": {
     "duration": 0.133553,
     "end_time": "2024-03-21T12:54:50.402287",
     "exception": false,
     "start_time": "2024-03-21T12:54:50.268734",
     "status": "completed"
    },
    "tags": []
   },
   "outputs": [],
   "source": [
    "def squash(s, axis=-1, epsilon=1e-7, name=None):\n",
    "    #with tf.name_scope(name, default_name=\"squash\"):\n",
    "    with tf.name_scope(name):\n",
    "        #squared_norm = tf.reduce_sum(tf.square(s), axis=axis,\n",
    "        #                             keep_dims=True)\n",
    "        squared_norm = tf.reduce_sum(tf.square(s), axis=axis,\n",
    "                                     keepdims=True)\n",
    "        safe_norm = tf.sqrt(squared_norm + epsilon)\n",
    "        squash_factor = squared_norm / (1. + squared_norm)\n",
    "        unit_vector = s / safe_norm\n",
    "        return squash_factor * unit_vector"
   ]
  },
  {
   "cell_type": "markdown",
   "metadata": {
    "papermill": {
     "duration": 0.12247,
     "end_time": "2024-03-21T12:54:50.648185",
     "exception": false,
     "start_time": "2024-03-21T12:54:50.525715",
     "status": "completed"
    },
    "tags": []
   },
   "source": [
    "Now let's apply this function to get the output $\\mathbf{u}_i$ of each primary capsules $i$ :"
   ]
  },
  {
   "cell_type": "code",
   "execution_count": 20,
   "metadata": {
    "execution": {
     "iopub.execute_input": "2024-03-21T12:54:50.900998Z",
     "iopub.status.busy": "2024-03-21T12:54:50.899838Z",
     "iopub.status.idle": "2024-03-21T12:54:50.909544Z",
     "shell.execute_reply": "2024-03-21T12:54:50.908910Z",
     "shell.execute_reply.started": "2024-03-21T12:23:50.474730Z"
    },
    "papermill": {
     "duration": 0.139524,
     "end_time": "2024-03-21T12:54:50.909648",
     "exception": false,
     "start_time": "2024-03-21T12:54:50.770124",
     "status": "completed"
    },
    "tags": []
   },
   "outputs": [],
   "source": [
    "caps1_output = squash(caps1_raw, name=\"caps1_output\")"
   ]
  },
  {
   "cell_type": "markdown",
   "metadata": {
    "papermill": {
     "duration": 0.123159,
     "end_time": "2024-03-21T12:54:51.154906",
     "exception": false,
     "start_time": "2024-03-21T12:54:51.031747",
     "status": "completed"
    },
    "tags": []
   },
   "source": [
    "Great! We have the output of the first capsule layer. It wasn't too hard, was it? However, computing the next layer is where the fun really begins."
   ]
  },
  {
   "cell_type": "markdown",
   "metadata": {
    "papermill": {
     "duration": 0.122185,
     "end_time": "2024-03-21T12:54:51.399341",
     "exception": false,
     "start_time": "2024-03-21T12:54:51.277156",
     "status": "completed"
    },
    "tags": []
   },
   "source": [
    "# Digit Capsules"
   ]
  },
  {
   "cell_type": "markdown",
   "metadata": {
    "papermill": {
     "duration": 0.122625,
     "end_time": "2024-03-21T12:54:51.644029",
     "exception": false,
     "start_time": "2024-03-21T12:54:51.521404",
     "status": "completed"
    },
    "tags": []
   },
   "source": [
    "To compute the output of the digit capsules, we must first compute the predicted output vectors (one for each primary / digit capsule pair). Then we can run the routing by agreement algorithm."
   ]
  },
  {
   "cell_type": "markdown",
   "metadata": {
    "papermill": {
     "duration": 0.12401,
     "end_time": "2024-03-21T12:54:51.890425",
     "exception": false,
     "start_time": "2024-03-21T12:54:51.766415",
     "status": "completed"
    },
    "tags": []
   },
   "source": [
    "## Compute the Predicted Output Vectors\n",
    "\n",
    "\n",
    "The digit capsule layer contains 10 capsules (one for each digit) of 16 dimensions each:\n"
   ]
  },
  {
   "cell_type": "code",
   "execution_count": 21,
   "metadata": {
    "execution": {
     "iopub.execute_input": "2024-03-21T12:54:52.141234Z",
     "iopub.status.busy": "2024-03-21T12:54:52.140413Z",
     "iopub.status.idle": "2024-03-21T12:54:52.143708Z",
     "shell.execute_reply": "2024-03-21T12:54:52.143133Z",
     "shell.execute_reply.started": "2024-03-21T12:23:53.179741Z"
    },
    "papermill": {
     "duration": 0.131195,
     "end_time": "2024-03-21T12:54:52.143820",
     "exception": false,
     "start_time": "2024-03-21T12:54:52.012625",
     "status": "completed"
    },
    "tags": []
   },
   "outputs": [],
   "source": [
    "caps2_n_caps = 10\n",
    "caps2_n_dims = 16"
   ]
  },
  {
   "cell_type": "markdown",
   "metadata": {
    "papermill": {
     "duration": 0.123588,
     "end_time": "2024-03-21T12:54:52.391102",
     "exception": false,
     "start_time": "2024-03-21T12:54:52.267514",
     "status": "completed"
    },
    "tags": []
   },
   "source": [
    "\n",
    "\n",
    "For each capsule $i$ in the first layer, we want to predict the output of every capsule $j$ in the second layer. For this, we will need a transformation matrix $\\mathbf{W}_{i,j}$ (one for each pair of capsules ($i$, $j$)), then we can compute the predicted output $\\hat{\\mathbf{u}}_{j|i} = \\mathbf{W}_{i,j} \\, \\mathbf{u}_i$ (equation (2)-right in the paper). Since we want to transform an 8D vector into a 16D vector, each transformation matrix $\\mathbf{W}_{i,j}$ must have a shape of (16, 8).\n",
    "\n",
    "To compute $\\hat{\\mathbf{u}}_{j|i}$ for every pair of capsules ($i$, $j$), we will use a nice feature of the tf.matmul() function: you probably know that it lets you multiply two matrices, but you may not know that it also lets you multiply higher dimensional arrays. It treats the arrays as arrays of matrices, and it performs itemwise matrix multiplication. For example, suppose you have two 4D arrays, each containing a 2×3 grid of matrices. The first contains matrices $\\mathbf{A}, \\mathbf{B}, \\mathbf{C}, \\mathbf{D}, \\mathbf{E}, \\mathbf{F}$ and the second contains matrices $\\mathbf{G}, \\mathbf{H}, \\mathbf{I}, \\mathbf{J}, \\mathbf{K}, \\mathbf{L}$. If you multiply these two 4D arrays using the tf.matmul() function, this is what you get:\n",
    "\n",
    "$\\pmatrix{ \\mathbf{A} & \\mathbf{B} & \\mathbf{C} \\\\ \\mathbf{D} & \\mathbf{E} & \\mathbf{F} } \\times \\pmatrix{ \\mathbf{G} & \\mathbf{H} & \\mathbf{I} \\\\ \\mathbf{J} & \\mathbf{K} & \\mathbf{L} } = \\pmatrix{ \\mathbf{AG} & \\mathbf{BH} & \\mathbf{CI} \\\\ \\mathbf{DJ} & \\mathbf{EK} & \\mathbf{FL} }$\n"
   ]
  },
  {
   "cell_type": "markdown",
   "metadata": {
    "papermill": {
     "duration": 0.123212,
     "end_time": "2024-03-21T12:54:52.637270",
     "exception": false,
     "start_time": "2024-03-21T12:54:52.514058",
     "status": "completed"
    },
    "tags": []
   },
   "source": [
    "We can apply this function to compute $\\hat{\\mathbf{u}}_{j|i}$ for every pair of capsules ($i$, $j$) like this (recall that there are 6×6×32=1152 capsules in the first layer, and 10 in the second layer):\n",
    "\n",
    "$\\pmatrix{ \\mathbf{W}{1,1} & \\mathbf{W}{1,2} & \\cdots & \\mathbf{W}{1,10} \\ \\mathbf{W}{2,1} & \\mathbf{W}{2,2} & \\cdots & \\mathbf{W}{2,10} \\ \\vdots & \\vdots & \\ddots & \\vdots \\ \\mathbf{W}{1152,1} & \\mathbf{W}{1152,2} & \\cdots & \\mathbf{W}_{1152,10} } \\times \\pmatrix{ \\mathbf{u}_1 & \\mathbf{u}_1 & \\cdots & \\mathbf{u}_1 \\ \\mathbf{u}_2 & \\mathbf{u}_2 & \\cdots & \\mathbf{u}2 \\ \\vdots & \\vdots & \\ddots & \\vdots \\ \\mathbf{u}{1152} & \\mathbf{u}{1152} & \\cdots & \\mathbf{u}{1152}}$\n",
    "\n",
    "$\\pmatrix{ \\hat{\\mathbf{u}}{1|1} & \\hat{\\mathbf{u}}{2|1} & \\cdots & \\hat{\\mathbf{u}}{10|1} \\ \\hat{\\mathbf{u}}{1|2} & \\hat{\\mathbf{u}}{2|2} & \\cdots & \\hat{\\mathbf{u}}{10|2} \\ \\vdots & \\vdots & \\ddots & \\vdots \\ \\hat{\\mathbf{u}}{1|1152} & \\hat{\\mathbf{u}}{2|1152} & \\cdots & \\hat{\\mathbf{u}}_{10|1152} }$\n",
    "\n",
    "The shape of the first array is (1152, 10, 16, 8), and the shape of the second array is (1152, 10, 8, 1). Note that the second array must contain 10 identical copies of the vectors $\\mathbf{u}_1$ to $\\mathbf{u}_{1152}$. To create this array, we will use the handy tf.tile() function, which lets you create an array containing many copies of a base array, tiled in any way you want.\n",
    "\n",
    "Oh, wait a second! We forgot one dimension: batch size. Say we feed 50 images to the capsule network, it will make predictions for these 50 images simultaneously. So the shape of the first array must be (50, 1152, 10, 16, 8), and the shape of the second array must be (50, 1152, 10, 8, 1). The first layer capsules actually already output predictions for all 50 images, so the second array will be fine, but for the first array, we will need to use tf.tile() to have 50 copies of the transformation matrices.\n",
    "\n",
    "Okay, let's start by creating a trainable variable of shape (1, 1152, 10, 16, 8) that will hold all the transformation matrices. The first dimension of size 1 will make this array easy to tile. We initialize this variable randomly using a normal distribution with a standard deviation to 0.1."
   ]
  },
  {
   "cell_type": "code",
   "execution_count": 22,
   "metadata": {
    "execution": {
     "iopub.execute_input": "2024-03-21T12:54:52.890155Z",
     "iopub.status.busy": "2024-03-21T12:54:52.889292Z",
     "iopub.status.idle": "2024-03-21T12:54:52.896724Z",
     "shell.execute_reply": "2024-03-21T12:54:52.897180Z",
     "shell.execute_reply.started": "2024-03-21T12:23:54.467280Z"
    },
    "papermill": {
     "duration": 0.137957,
     "end_time": "2024-03-21T12:54:52.897312",
     "exception": false,
     "start_time": "2024-03-21T12:54:52.759355",
     "status": "completed"
    },
    "tags": []
   },
   "outputs": [],
   "source": [
    "init_sigma = 0.1\n",
    "\n",
    "#W_init = tf.random_normal(\n",
    "W_init = tf.random.normal(\n",
    "    shape=(1, caps1_n_caps, caps2_n_caps, caps2_n_dims, caps1_n_dims),\n",
    "    stddev=init_sigma, dtype=tf.float32, name=\"W_init\")\n",
    "W = tf.Variable(W_init, name=\"W\")"
   ]
  },
  {
   "cell_type": "markdown",
   "metadata": {
    "papermill": {
     "duration": 0.123135,
     "end_time": "2024-03-21T12:54:53.143629",
     "exception": false,
     "start_time": "2024-03-21T12:54:53.020494",
     "status": "completed"
    },
    "tags": []
   },
   "source": [
    "Now we can create the first array by repeating W once per instance:"
   ]
  },
  {
   "cell_type": "code",
   "execution_count": 23,
   "metadata": {
    "execution": {
     "iopub.execute_input": "2024-03-21T12:54:53.395080Z",
     "iopub.status.busy": "2024-03-21T12:54:53.394478Z",
     "iopub.status.idle": "2024-03-21T12:54:53.407490Z",
     "shell.execute_reply": "2024-03-21T12:54:53.407011Z",
     "shell.execute_reply.started": "2024-03-21T12:23:55.771277Z"
    },
    "papermill": {
     "duration": 0.141171,
     "end_time": "2024-03-21T12:54:53.407595",
     "exception": false,
     "start_time": "2024-03-21T12:54:53.266424",
     "status": "completed"
    },
    "tags": []
   },
   "outputs": [],
   "source": [
    "batch_size = tf.shape(X)[0]\n",
    "W_tiled = tf.tile(W, [batch_size, 1, 1, 1, 1], name=\"W_tiled\")"
   ]
  },
  {
   "cell_type": "markdown",
   "metadata": {
    "papermill": {
     "duration": 0.121911,
     "end_time": "2024-03-21T12:54:53.651879",
     "exception": false,
     "start_time": "2024-03-21T12:54:53.529968",
     "status": "completed"
    },
    "tags": []
   },
   "source": [
    "That's it! On to the second array, now. As discussed earlier, we need to create an array of shape (batch size, 1152, 10, 8, 1), containing the output of the first layer capsules, repeated 10 times (once per digit, along the third dimension, which is axis=2). The caps1_output array has a shape of (batch size, 1152, 8), so we first need to expand it twice, to get an array of shape (batch size, 1152, 1, 8, 1), then we can repeat it 10 times along the third dimension:"
   ]
  },
  {
   "cell_type": "code",
   "execution_count": 24,
   "metadata": {
    "execution": {
     "iopub.execute_input": "2024-03-21T12:54:53.904859Z",
     "iopub.status.busy": "2024-03-21T12:54:53.903710Z",
     "iopub.status.idle": "2024-03-21T12:54:53.909309Z",
     "shell.execute_reply": "2024-03-21T12:54:53.908709Z",
     "shell.execute_reply.started": "2024-03-21T12:23:57.066405Z"
    },
    "papermill": {
     "duration": 0.135377,
     "end_time": "2024-03-21T12:54:53.909408",
     "exception": false,
     "start_time": "2024-03-21T12:54:53.774031",
     "status": "completed"
    },
    "tags": []
   },
   "outputs": [],
   "source": [
    "caps1_output_expanded = tf.expand_dims(caps1_output, -1,\n",
    "                                       name=\"caps1_output_expanded\")\n",
    "caps1_output_tile = tf.expand_dims(caps1_output_expanded, 2,\n",
    "                                   name=\"caps1_output_tile\")\n",
    "caps1_output_tiled = tf.tile(caps1_output_tile, [1, 1, caps2_n_caps, 1, 1],\n",
    "                             name=\"caps1_output_tiled\")"
   ]
  },
  {
   "cell_type": "markdown",
   "metadata": {
    "papermill": {
     "duration": 0.123835,
     "end_time": "2024-03-21T12:54:54.157131",
     "exception": false,
     "start_time": "2024-03-21T12:54:54.033296",
     "status": "completed"
    },
    "tags": []
   },
   "source": [
    "Let's check the shape of the first array:"
   ]
  },
  {
   "cell_type": "code",
   "execution_count": 25,
   "metadata": {
    "execution": {
     "iopub.execute_input": "2024-03-21T12:54:54.407356Z",
     "iopub.status.busy": "2024-03-21T12:54:54.406397Z",
     "iopub.status.idle": "2024-03-21T12:54:54.410042Z",
     "shell.execute_reply": "2024-03-21T12:54:54.409397Z",
     "shell.execute_reply.started": "2024-03-21T12:23:58.177011Z"
    },
    "papermill": {
     "duration": 0.130089,
     "end_time": "2024-03-21T12:54:54.410145",
     "exception": false,
     "start_time": "2024-03-21T12:54:54.280056",
     "status": "completed"
    },
    "tags": []
   },
   "outputs": [
    {
     "data": {
      "text/plain": [
       "<tf.Tensor 'W_tiled:0' shape=(None, 1152, 10, 16, 8) dtype=float32>"
      ]
     },
     "execution_count": 25,
     "metadata": {},
     "output_type": "execute_result"
    }
   ],
   "source": [
    "W_tiled"
   ]
  },
  {
   "cell_type": "markdown",
   "metadata": {
    "papermill": {
     "duration": 0.122311,
     "end_time": "2024-03-21T12:54:54.654727",
     "exception": false,
     "start_time": "2024-03-21T12:54:54.532416",
     "status": "completed"
    },
    "tags": []
   },
   "source": [
    "Yes! Now, to get all the predicted output vectors $\\hat{\\mathbf{u}}_{j|i}$, we just need to multiply these two arrays using tf.matmul(), as explained earlier:"
   ]
  },
  {
   "cell_type": "code",
   "execution_count": 26,
   "metadata": {
    "execution": {
     "iopub.execute_input": "2024-03-21T12:54:54.907055Z",
     "iopub.status.busy": "2024-03-21T12:54:54.906326Z",
     "iopub.status.idle": "2024-03-21T12:54:54.909324Z",
     "shell.execute_reply": "2024-03-21T12:54:54.908855Z",
     "shell.execute_reply.started": "2024-03-21T12:24:00.069834Z"
    },
    "papermill": {
     "duration": 0.132979,
     "end_time": "2024-03-21T12:54:54.909422",
     "exception": false,
     "start_time": "2024-03-21T12:54:54.776443",
     "status": "completed"
    },
    "tags": []
   },
   "outputs": [],
   "source": [
    "caps2_predicted = tf.matmul(W_tiled, caps1_output_tiled,\n",
    "                            name=\"caps2_predicted\")"
   ]
  },
  {
   "cell_type": "markdown",
   "metadata": {
    "papermill": {
     "duration": 0.122312,
     "end_time": "2024-03-21T12:54:55.155350",
     "exception": false,
     "start_time": "2024-03-21T12:54:55.033038",
     "status": "completed"
    },
    "tags": []
   },
   "source": [
    "\n",
    "\n",
    "Let's check the shape:\n"
   ]
  },
  {
   "cell_type": "code",
   "execution_count": 27,
   "metadata": {
    "execution": {
     "iopub.execute_input": "2024-03-21T12:54:55.406160Z",
     "iopub.status.busy": "2024-03-21T12:54:55.405198Z",
     "iopub.status.idle": "2024-03-21T12:54:55.409094Z",
     "shell.execute_reply": "2024-03-21T12:54:55.408447Z",
     "shell.execute_reply.started": "2024-03-21T12:24:01.010995Z"
    },
    "papermill": {
     "duration": 0.131578,
     "end_time": "2024-03-21T12:54:55.409200",
     "exception": false,
     "start_time": "2024-03-21T12:54:55.277622",
     "status": "completed"
    },
    "tags": []
   },
   "outputs": [
    {
     "data": {
      "text/plain": [
       "<tf.Tensor 'caps2_predicted:0' shape=(None, 1152, 10, 16, 1) dtype=float32>"
      ]
     },
     "execution_count": 27,
     "metadata": {},
     "output_type": "execute_result"
    }
   ],
   "source": [
    "caps2_predicted"
   ]
  },
  {
   "cell_type": "markdown",
   "metadata": {
    "papermill": {
     "duration": 0.122816,
     "end_time": "2024-03-21T12:54:55.655596",
     "exception": false,
     "start_time": "2024-03-21T12:54:55.532780",
     "status": "completed"
    },
    "tags": []
   },
   "source": [
    "Perfect, for each instance in the batch (we don't know the batch size yet, hence the \"?\") and for each pair of first and second layer capsules (1152×10) we have a 16D predicted output column vector (16×1). We're ready to apply the routing by agreement algorithm!"
   ]
  },
  {
   "cell_type": "markdown",
   "metadata": {
    "papermill": {
     "duration": 0.14109,
     "end_time": "2024-03-21T12:54:55.924929",
     "exception": false,
     "start_time": "2024-03-21T12:54:55.783839",
     "status": "completed"
    },
    "tags": []
   },
   "source": [
    "# Routing by agreement"
   ]
  },
  {
   "cell_type": "markdown",
   "metadata": {
    "papermill": {
     "duration": 0.12384,
     "end_time": "2024-03-21T12:54:56.171877",
     "exception": false,
     "start_time": "2024-03-21T12:54:56.048037",
     "status": "completed"
    },
    "tags": []
   },
   "source": [
    "First let's initialize the raw routing weights $b_{i,j}$ to zero:"
   ]
  },
  {
   "cell_type": "code",
   "execution_count": 28,
   "metadata": {
    "execution": {
     "iopub.execute_input": "2024-03-21T12:54:56.427770Z",
     "iopub.status.busy": "2024-03-21T12:54:56.426838Z",
     "iopub.status.idle": "2024-03-21T12:54:56.436072Z",
     "shell.execute_reply": "2024-03-21T12:54:56.435473Z",
     "shell.execute_reply.started": "2024-03-21T12:24:03.145930Z"
    },
    "papermill": {
     "duration": 0.139141,
     "end_time": "2024-03-21T12:54:56.436170",
     "exception": false,
     "start_time": "2024-03-21T12:54:56.297029",
     "status": "completed"
    },
    "tags": []
   },
   "outputs": [],
   "source": [
    "raw_weights = tf.zeros([batch_size, caps1_n_caps, caps2_n_caps, 1, 1],\n",
    "                       dtype=np.float32, name=\"raw_weights\")"
   ]
  },
  {
   "cell_type": "markdown",
   "metadata": {
    "papermill": {
     "duration": 0.123903,
     "end_time": "2024-03-21T12:54:56.684054",
     "exception": false,
     "start_time": "2024-03-21T12:54:56.560151",
     "status": "completed"
    },
    "tags": []
   },
   "source": [
    "We will see why we need the last two dimensions of size 1 in a minute."
   ]
  },
  {
   "cell_type": "markdown",
   "metadata": {
    "papermill": {
     "duration": 0.15199,
     "end_time": "2024-03-21T12:54:56.986515",
     "exception": false,
     "start_time": "2024-03-21T12:54:56.834525",
     "status": "completed"
    },
    "tags": []
   },
   "source": [
    "## Round 1"
   ]
  },
  {
   "cell_type": "markdown",
   "metadata": {
    "papermill": {
     "duration": 0.123119,
     "end_time": "2024-03-21T12:54:57.240319",
     "exception": false,
     "start_time": "2024-03-21T12:54:57.117200",
     "status": "completed"
    },
    "tags": []
   },
   "source": [
    "First, let's apply the softmax function to compute the routing weights, $\\mathbf{c}_{i} = \\operatorname{softmax}(\\mathbf{b}_i)$ (equation (3) in the paper):"
   ]
  },
  {
   "cell_type": "code",
   "execution_count": 29,
   "metadata": {
    "execution": {
     "iopub.execute_input": "2024-03-21T12:54:57.492574Z",
     "iopub.status.busy": "2024-03-21T12:54:57.491826Z",
     "iopub.status.idle": "2024-03-21T12:54:57.494031Z",
     "shell.execute_reply": "2024-03-21T12:54:57.494487Z",
     "shell.execute_reply.started": "2024-03-21T12:24:05.059121Z"
    },
    "papermill": {
     "duration": 0.131219,
     "end_time": "2024-03-21T12:54:57.494617",
     "exception": false,
     "start_time": "2024-03-21T12:54:57.363398",
     "status": "completed"
    },
    "tags": []
   },
   "outputs": [],
   "source": [
    "routing_weights = tf.nn.softmax(raw_weights, name=\"routing_weights\")"
   ]
  },
  {
   "cell_type": "markdown",
   "metadata": {
    "papermill": {
     "duration": 0.123243,
     "end_time": "2024-03-21T12:54:57.740218",
     "exception": false,
     "start_time": "2024-03-21T12:54:57.616975",
     "status": "completed"
    },
    "tags": []
   },
   "source": [
    "Now let's compute the weighted sum of all the predicted output vectors for each second-layer capsule, $\\mathbf{s}_j = \\sum\\limits_{i}{c_{i,j}\\hat{\\mathbf{u}}_{j|i}}$ (equation (2)-left in the paper):"
   ]
  },
  {
   "cell_type": "code",
   "execution_count": 30,
   "metadata": {
    "execution": {
     "iopub.execute_input": "2024-03-21T12:54:57.996513Z",
     "iopub.status.busy": "2024-03-21T12:54:57.995662Z",
     "iopub.status.idle": "2024-03-21T12:54:57.999029Z",
     "shell.execute_reply": "2024-03-21T12:54:57.998535Z",
     "shell.execute_reply.started": "2024-03-21T12:24:13.406124Z"
    },
    "papermill": {
     "duration": 0.13362,
     "end_time": "2024-03-21T12:54:57.999135",
     "exception": false,
     "start_time": "2024-03-21T12:54:57.865515",
     "status": "completed"
    },
    "tags": []
   },
   "outputs": [],
   "source": [
    "weighted_predictions = tf.multiply(routing_weights, caps2_predicted,\n",
    "                                   name=\"weighted_predictions\")\n",
    "weighted_sum = tf.reduce_sum(weighted_predictions, axis=1, keepdims=True,\n",
    "                             name=\"weighted_sum\")"
   ]
  },
  {
   "cell_type": "markdown",
   "metadata": {
    "papermill": {
     "duration": 0.13258,
     "end_time": "2024-03-21T12:54:58.256488",
     "exception": false,
     "start_time": "2024-03-21T12:54:58.123908",
     "status": "completed"
    },
    "tags": []
   },
   "source": [
    "\n",
    "\n",
    "There are a couple important details to note here:\n",
    "\n",
    "To perform elementwise matrix multiplication (also called the Hadamard product, noted $\\circ$), we use the tf.multiply() function. It requires routing_weights and caps2_predicted to have the same rank, which is why we added two extra dimensions of size 1 to routing_weights, earlier.\n",
    "\n",
    "The shape of routing_weights is (batch size, 1152, 10, 1, 1) while the shape of caps2_predicted is (batch size, 1152, 10, 16, 1). Since they don't match on the fourth dimension (1 vs 16), tf.multiply() automatically broadcasts the routing_weights 16 times along that dimension. If you are not familiar with broadcasting, a simple example might help:\n",
    "\n",
    "$ \\pmatrix{1 & 2 & 3 \\\\ 4 & 5 & 6} \\circ \\pmatrix{10 & 100 & 1000} = \\pmatrix{1 & 2 & 3 \\\\ 4 & 5 & 6} \\circ \\pmatrix{10 & 100 & 1000 \\\\ 10 & 100 & 1000} = \\pmatrix{10 & 200 & 3000 \\\\ 40 & 500 & 6000} $\n",
    "\n",
    "And finally, let's apply the squash function to get the outputs of the second layer capsules at the end of the first iteration of the routing by agreement algorithm, $\\mathbf{v}_j = \\operatorname{squash}(\\mathbf{s}_j)$ :\n"
   ]
  },
  {
   "cell_type": "code",
   "execution_count": 31,
   "metadata": {
    "execution": {
     "iopub.execute_input": "2024-03-21T12:54:58.536873Z",
     "iopub.status.busy": "2024-03-21T12:54:58.535338Z",
     "iopub.status.idle": "2024-03-21T12:54:58.543100Z",
     "shell.execute_reply": "2024-03-21T12:54:58.542354Z",
     "shell.execute_reply.started": "2024-03-21T12:24:15.285474Z"
    },
    "papermill": {
     "duration": 0.157947,
     "end_time": "2024-03-21T12:54:58.543218",
     "exception": false,
     "start_time": "2024-03-21T12:54:58.385271",
     "status": "completed"
    },
    "tags": []
   },
   "outputs": [],
   "source": [
    "caps2_output_round_1 = squash(weighted_sum, axis=-2,\n",
    "                              name=\"caps2_output_round_1\")"
   ]
  },
  {
   "cell_type": "code",
   "execution_count": 32,
   "metadata": {
    "execution": {
     "iopub.execute_input": "2024-03-21T12:54:58.816832Z",
     "iopub.status.busy": "2024-03-21T12:54:58.816026Z",
     "iopub.status.idle": "2024-03-21T12:54:58.819870Z",
     "shell.execute_reply": "2024-03-21T12:54:58.820698Z",
     "shell.execute_reply.started": "2024-03-21T12:24:15.730073Z"
    },
    "papermill": {
     "duration": 0.139248,
     "end_time": "2024-03-21T12:54:58.820875",
     "exception": false,
     "start_time": "2024-03-21T12:54:58.681627",
     "status": "completed"
    },
    "tags": []
   },
   "outputs": [
    {
     "data": {
      "text/plain": [
       "<tf.Tensor 'caps2_output_round_1/mul:0' shape=(None, 1, 10, 16, 1) dtype=float32>"
      ]
     },
     "execution_count": 32,
     "metadata": {},
     "output_type": "execute_result"
    }
   ],
   "source": [
    "caps2_output_round_1"
   ]
  },
  {
   "cell_type": "markdown",
   "metadata": {
    "papermill": {
     "duration": 0.134546,
     "end_time": "2024-03-21T12:54:59.088074",
     "exception": false,
     "start_time": "2024-03-21T12:54:58.953528",
     "status": "completed"
    },
    "tags": []
   },
   "source": [
    "\n",
    "\n",
    "Good! We have ten 16D output vectors for each instance, as expected.\n",
    "## Round 2\n",
    "\n",
    "First, let's measure how close each predicted vector $\\hat{\\mathbf{u}}_{j|i}$ is to the actual output vector $\\mathbf{v}_j$ by computing their scalar product $\\hat{\\mathbf{u}}_{j|i} \\cdot \\mathbf{v}_j$.\n",
    "\n",
    "Quick math reminder: if $\\vec{a}$ and $\\vec{b}$ are two vectors of equal length, and $\\mathbf{a}$ and $\\mathbf{b}$ are their corresponding column vectors (i.e., matrices with a single column), then $\\mathbf{a}^T \\mathbf{b}$ (i.e., the matrix multiplication of the transpose of $\\mathbf{a}$, and $\\mathbf{b}$) is a 1×1 matrix containing the scalar product of the two vectors $\\vec{a}\\cdot\\vec{b}$. In Machine Learning, we generally represent vectors as column vectors, so when we talk about computing the scalar product $\\hat{\\mathbf{u}}_{j|i} \\cdot \\mathbf{v}_j$, this actually means computing ${\\hat{\\mathbf{u}}_{j|i}}^T \\mathbf{v}_j$.\n",
    "\n",
    "Since we need to compute the scalar product $\\hat{\\mathbf{u}}_{j|i} \\cdot \\mathbf{v}_j$ for each instance, and for each pair of first and second level capsules $(i, j)$, we will once again take advantage of the fact that tf.matmul() can multiply many matrices simultaneously. This will require playing around with tf.tile() to get all dimensions to match (except for the last 2), just like we did earlier. So let's look at the shape of caps2_predicted, which holds all the predicted output vectors $\\hat{\\mathbf{u}}_{j|i}$ for each instance and each pair of capsules:\n"
   ]
  },
  {
   "cell_type": "code",
   "execution_count": 33,
   "metadata": {
    "execution": {
     "iopub.execute_input": "2024-03-21T12:54:59.355009Z",
     "iopub.status.busy": "2024-03-21T12:54:59.354210Z",
     "iopub.status.idle": "2024-03-21T12:54:59.357406Z",
     "shell.execute_reply": "2024-03-21T12:54:59.357939Z",
     "shell.execute_reply.started": "2024-03-21T12:24:16.624385Z"
    },
    "papermill": {
     "duration": 0.138738,
     "end_time": "2024-03-21T12:54:59.358063",
     "exception": false,
     "start_time": "2024-03-21T12:54:59.219325",
     "status": "completed"
    },
    "tags": []
   },
   "outputs": [
    {
     "data": {
      "text/plain": [
       "<tf.Tensor 'caps2_predicted:0' shape=(None, 1152, 10, 16, 1) dtype=float32>"
      ]
     },
     "execution_count": 33,
     "metadata": {},
     "output_type": "execute_result"
    }
   ],
   "source": [
    "caps2_predicted"
   ]
  },
  {
   "cell_type": "markdown",
   "metadata": {
    "papermill": {
     "duration": 0.130036,
     "end_time": "2024-03-21T12:54:59.618142",
     "exception": false,
     "start_time": "2024-03-21T12:54:59.488106",
     "status": "completed"
    },
    "tags": []
   },
   "source": [
    "And now let's look at the shape of caps2_output_round_1, which holds 10 outputs vectors of 16D each, for each instance:"
   ]
  },
  {
   "cell_type": "code",
   "execution_count": 34,
   "metadata": {
    "execution": {
     "iopub.execute_input": "2024-03-21T12:54:59.883684Z",
     "iopub.status.busy": "2024-03-21T12:54:59.882739Z",
     "iopub.status.idle": "2024-03-21T12:54:59.886322Z",
     "shell.execute_reply": "2024-03-21T12:54:59.885728Z",
     "shell.execute_reply.started": "2024-03-21T12:24:17.473427Z"
    },
    "papermill": {
     "duration": 0.138605,
     "end_time": "2024-03-21T12:54:59.886424",
     "exception": false,
     "start_time": "2024-03-21T12:54:59.747819",
     "status": "completed"
    },
    "tags": []
   },
   "outputs": [
    {
     "data": {
      "text/plain": [
       "<tf.Tensor 'caps2_output_round_1/mul:0' shape=(None, 1, 10, 16, 1) dtype=float32>"
      ]
     },
     "execution_count": 34,
     "metadata": {},
     "output_type": "execute_result"
    }
   ],
   "source": [
    "caps2_output_round_1"
   ]
  },
  {
   "cell_type": "markdown",
   "metadata": {
    "papermill": {
     "duration": 0.132306,
     "end_time": "2024-03-21T12:55:00.146325",
     "exception": false,
     "start_time": "2024-03-21T12:55:00.014019",
     "status": "completed"
    },
    "tags": []
   },
   "source": [
    "To get these shapes to match, we just need to tile the caps2_output_round_1 array 1152 times (once per primary capsule) along the second dimension:"
   ]
  },
  {
   "cell_type": "code",
   "execution_count": 35,
   "metadata": {
    "execution": {
     "iopub.execute_input": "2024-03-21T12:55:00.427822Z",
     "iopub.status.busy": "2024-03-21T12:55:00.427174Z",
     "iopub.status.idle": "2024-03-21T12:55:00.431338Z",
     "shell.execute_reply": "2024-03-21T12:55:00.430730Z",
     "shell.execute_reply.started": "2024-03-21T12:24:20.828518Z"
    },
    "papermill": {
     "duration": 0.142649,
     "end_time": "2024-03-21T12:55:00.431436",
     "exception": false,
     "start_time": "2024-03-21T12:55:00.288787",
     "status": "completed"
    },
    "tags": []
   },
   "outputs": [],
   "source": [
    "caps2_output_round_1_tiled = tf.tile(\n",
    "    caps2_output_round_1, [1, caps1_n_caps, 1, 1, 1],\n",
    "    name=\"caps2_output_round_1_tiled\")"
   ]
  },
  {
   "cell_type": "markdown",
   "metadata": {
    "papermill": {
     "duration": 0.130879,
     "end_time": "2024-03-21T12:55:00.704821",
     "exception": false,
     "start_time": "2024-03-21T12:55:00.573942",
     "status": "completed"
    },
    "tags": []
   },
   "source": [
    "And now we are ready to call tf.matmul() (note that we must tell it to transpose the matrices in the first array, to get ${\\hat{\\mathbf{u}}_{j|i}}^T$ instead of $\\hat{\\mathbf{u}}_{j|i}$):"
   ]
  },
  {
   "cell_type": "code",
   "execution_count": 36,
   "metadata": {
    "execution": {
     "iopub.execute_input": "2024-03-21T12:55:00.961570Z",
     "iopub.status.busy": "2024-03-21T12:55:00.960902Z",
     "iopub.status.idle": "2024-03-21T12:55:00.963660Z",
     "shell.execute_reply": "2024-03-21T12:55:00.964098Z",
     "shell.execute_reply.started": "2024-03-21T12:24:25.574661Z"
    },
    "papermill": {
     "duration": 0.132853,
     "end_time": "2024-03-21T12:55:00.964222",
     "exception": false,
     "start_time": "2024-03-21T12:55:00.831369",
     "status": "completed"
    },
    "tags": []
   },
   "outputs": [],
   "source": [
    "agreement = tf.matmul(caps2_predicted, caps2_output_round_1_tiled,\n",
    "                      transpose_a=True, name=\"agreement\")"
   ]
  },
  {
   "cell_type": "markdown",
   "metadata": {
    "papermill": {
     "duration": 0.125418,
     "end_time": "2024-03-21T12:55:01.243590",
     "exception": false,
     "start_time": "2024-03-21T12:55:01.118172",
     "status": "completed"
    },
    "tags": []
   },
   "source": [
    "We can now update the raw routing weights $b_{i,j}$ by simply adding the scalar product $\\hat{\\mathbf{u}}_{j|i} \\cdot \\mathbf{v}_j$ we just computed: $b_{i,j} \\gets b_{i,j} + \\hat{\\mathbf{u}}_{j|i} \\cdot \\mathbf{v}_j$ (see Procedure 1, step 7, in the paper)."
   ]
  },
  {
   "cell_type": "code",
   "execution_count": 37,
   "metadata": {
    "execution": {
     "iopub.execute_input": "2024-03-21T12:55:01.498921Z",
     "iopub.status.busy": "2024-03-21T12:55:01.498257Z",
     "iopub.status.idle": "2024-03-21T12:55:01.501435Z",
     "shell.execute_reply": "2024-03-21T12:55:01.500839Z",
     "shell.execute_reply.started": "2024-03-21T12:24:27.592315Z"
    },
    "papermill": {
     "duration": 0.132408,
     "end_time": "2024-03-21T12:55:01.501549",
     "exception": false,
     "start_time": "2024-03-21T12:55:01.369141",
     "status": "completed"
    },
    "tags": []
   },
   "outputs": [],
   "source": [
    "raw_weights_round_2 = tf.add(raw_weights, agreement,\n",
    "                             name=\"raw_weights_round_2\")"
   ]
  },
  {
   "cell_type": "markdown",
   "metadata": {
    "papermill": {
     "duration": 0.124467,
     "end_time": "2024-03-21T12:55:01.750484",
     "exception": false,
     "start_time": "2024-03-21T12:55:01.626017",
     "status": "completed"
    },
    "tags": []
   },
   "source": [
    "The rest of round 2 is the same as in round 1:"
   ]
  },
  {
   "cell_type": "code",
   "execution_count": 38,
   "metadata": {
    "execution": {
     "iopub.execute_input": "2024-03-21T12:55:02.009091Z",
     "iopub.status.busy": "2024-03-21T12:55:02.008214Z",
     "iopub.status.idle": "2024-03-21T12:55:02.017096Z",
     "shell.execute_reply": "2024-03-21T12:55:02.017581Z",
     "shell.execute_reply.started": "2024-03-21T12:24:28.647684Z"
    },
    "papermill": {
     "duration": 0.139881,
     "end_time": "2024-03-21T12:55:02.017699",
     "exception": false,
     "start_time": "2024-03-21T12:55:01.877818",
     "status": "completed"
    },
    "tags": []
   },
   "outputs": [],
   "source": [
    "routing_weights_round_2 = tf.nn.softmax(raw_weights_round_2,\n",
    "                                        name=\"routing_weights_round_2\")\n",
    "weighted_predictions_round_2 = tf.multiply(routing_weights_round_2,\n",
    "                                           caps2_predicted,\n",
    "                                           name=\"weighted_predictions_round_2\")\n",
    "weighted_sum_round_2 = tf.reduce_sum(weighted_predictions_round_2,\n",
    "                                     axis=1, keepdims=True,\n",
    "                                     name=\"weighted_sum_round_2\")\n",
    "caps2_output_round_2 = squash(weighted_sum_round_2,\n",
    "                              axis=-2,\n",
    "                              name=\"caps2_output_round_2\")"
   ]
  },
  {
   "cell_type": "markdown",
   "metadata": {
    "papermill": {
     "duration": 0.123885,
     "end_time": "2024-03-21T12:55:02.265355",
     "exception": false,
     "start_time": "2024-03-21T12:55:02.141470",
     "status": "completed"
    },
    "tags": []
   },
   "source": [
    "We could go on for a few more rounds, by repeating exactly the same steps as in round 2, but to keep things short, we will stop here:"
   ]
  },
  {
   "cell_type": "code",
   "execution_count": 39,
   "metadata": {
    "execution": {
     "iopub.execute_input": "2024-03-21T12:55:02.518354Z",
     "iopub.status.busy": "2024-03-21T12:55:02.517389Z",
     "iopub.status.idle": "2024-03-21T12:55:02.520337Z",
     "shell.execute_reply": "2024-03-21T12:55:02.519734Z",
     "shell.execute_reply.started": "2024-03-21T12:24:30.165454Z"
    },
    "papermill": {
     "duration": 0.130896,
     "end_time": "2024-03-21T12:55:02.520435",
     "exception": false,
     "start_time": "2024-03-21T12:55:02.389539",
     "status": "completed"
    },
    "tags": []
   },
   "outputs": [],
   "source": [
    "caps2_output = caps2_output_round_2"
   ]
  },
  {
   "cell_type": "markdown",
   "metadata": {
    "papermill": {
     "duration": 0.124295,
     "end_time": "2024-03-21T12:55:02.770994",
     "exception": false,
     "start_time": "2024-03-21T12:55:02.646699",
     "status": "completed"
    },
    "tags": []
   },
   "source": [
    "## Static or Dynamic Loop?"
   ]
  },
  {
   "cell_type": "markdown",
   "metadata": {
    "papermill": {
     "duration": 0.124201,
     "end_time": "2024-03-21T12:55:03.022029",
     "exception": false,
     "start_time": "2024-03-21T12:55:02.897828",
     "status": "completed"
    },
    "tags": []
   },
   "source": [
    "\n",
    "\n",
    "In the code above, we created different operations in the TensorFlow graph for each round of the routing by agreement algorithm. In other words, it's a static loop.\n",
    "\n",
    "Sure, instead of copy/pasting the code several times, we could have written a for loop in Python, but this would not change the fact that the graph would end up containing different operations for each routing iteration. It's actually okay since we generally want less than 5 routing iterations, so the graph won't grow too big.\n",
    "\n",
    "However, you may prefer to implement the routing loop within the TensorFlow graph itself rather than using a Python for loop. To do this, you would need to use TensorFlow's tf.while_loop() function. This way, all routing iterations would reuse the same operations in the graph, it would be a dynamic loop.\n",
    "\n",
    "For example, here is how to build a small loop that computes the sum of squares from 1 to 100:\n"
   ]
  },
  {
   "cell_type": "code",
   "execution_count": 40,
   "metadata": {
    "execution": {
     "iopub.execute_input": "2024-03-21T12:55:03.279848Z",
     "iopub.status.busy": "2024-03-21T12:55:03.279041Z",
     "iopub.status.idle": "2024-03-21T12:55:06.249844Z",
     "shell.execute_reply": "2024-03-21T12:55:06.249173Z",
     "shell.execute_reply.started": "2024-03-21T12:24:32.386097Z"
    },
    "papermill": {
     "duration": 3.103169,
     "end_time": "2024-03-21T12:55:06.249965",
     "exception": false,
     "start_time": "2024-03-21T12:55:03.146796",
     "status": "completed"
    },
    "tags": []
   },
   "outputs": [
    {
     "name": "stdout",
     "output_type": "stream",
     "text": [
      "[328350, 100]\n"
     ]
    }
   ],
   "source": [
    "def condition(input, counter):\n",
    "    return tf.less(counter, 100)\n",
    "\n",
    "def loop_body(input, counter):\n",
    "    output = tf.add(input, tf.square(counter))\n",
    "    return output, tf.add(counter, 1)\n",
    "\n",
    "with tf.name_scope(\"compute_sum_of_squares\"):\n",
    "    counter = tf.constant(1)\n",
    "    sum_of_squares = tf.constant(0)\n",
    "\n",
    "    result = tf.while_loop(condition, loop_body, [sum_of_squares, counter])\n",
    "    \n",
    "\n",
    "with tf.compat.v1.Session() as sess:\n",
    "    print(sess.run(result))"
   ]
  },
  {
   "cell_type": "markdown",
   "metadata": {
    "papermill": {
     "duration": 0.12491,
     "end_time": "2024-03-21T12:55:06.502024",
     "exception": false,
     "start_time": "2024-03-21T12:55:06.377114",
     "status": "completed"
    },
    "tags": []
   },
   "source": [
    "As you can see, the tf.while_loop() function expects the loop condition and body to be provided via two functions. These functions will be called only once by TensorFlow, during the graph construction phase, not while executing the graph. The tf.while_loop() function stitches together the graph fragments created by condition() and loop_body() with some additional operations to create the loop.\n",
    "\n",
    "Also note that during training, TensorFlow will automagically handle backpropogation through the loop, so you don't need to worry about that.\n",
    "\n",
    "Of course, we could have used this one-liner instead! ;-)"
   ]
  },
  {
   "cell_type": "code",
   "execution_count": 41,
   "metadata": {
    "execution": {
     "iopub.execute_input": "2024-03-21T12:55:06.762694Z",
     "iopub.status.busy": "2024-03-21T12:55:06.761844Z",
     "iopub.status.idle": "2024-03-21T12:55:06.765727Z",
     "shell.execute_reply": "2024-03-21T12:55:06.765105Z",
     "shell.execute_reply.started": "2024-03-21T12:24:35.547095Z"
    },
    "papermill": {
     "duration": 0.13875,
     "end_time": "2024-03-21T12:55:06.765829",
     "exception": false,
     "start_time": "2024-03-21T12:55:06.627079",
     "status": "completed"
    },
    "tags": []
   },
   "outputs": [
    {
     "data": {
      "text/plain": [
       "338350"
      ]
     },
     "execution_count": 41,
     "metadata": {},
     "output_type": "execute_result"
    }
   ],
   "source": [
    "sum([i**2 for i in range(1, 100 + 1)])"
   ]
  },
  {
   "cell_type": "markdown",
   "metadata": {
    "papermill": {
     "duration": 0.124915,
     "end_time": "2024-03-21T12:55:07.032864",
     "exception": false,
     "start_time": "2024-03-21T12:55:06.907949",
     "status": "completed"
    },
    "tags": []
   },
   "source": [
    "Joke aside, apart from reducing the graph size, using a dynamic loop instead of a static loop can help reduce how much GPU RAM you use (if you are using a GPU). Indeed, if you set swap_memory=True when calling the tf.while_loop() function, TensorFlow will automatically check GPU RAM usage at each loop iteration, and it will take care of swapping memory between the GPU and the CPU when needed. Since CPU memory is much cheaper and abundant than GPU RAM, this can really make a big difference."
   ]
  },
  {
   "cell_type": "markdown",
   "metadata": {
    "papermill": {
     "duration": 0.125079,
     "end_time": "2024-03-21T12:55:07.282815",
     "exception": false,
     "start_time": "2024-03-21T12:55:07.157736",
     "status": "completed"
    },
    "tags": []
   },
   "source": [
    "## Estimated Class Probabilities (Length)\n",
    "\n",
    "The lengths of the output vectors represent the class probabilities, so we could just use tf.norm() to compute them, but as we saw when discussing the squash function, it would be risky, so instead let's create our own safe_norm() function:\n"
   ]
  },
  {
   "cell_type": "code",
   "execution_count": 42,
   "metadata": {
    "execution": {
     "iopub.execute_input": "2024-03-21T12:55:07.541067Z",
     "iopub.status.busy": "2024-03-21T12:55:07.540202Z",
     "iopub.status.idle": "2024-03-21T12:55:07.543324Z",
     "shell.execute_reply": "2024-03-21T12:55:07.542816Z",
     "shell.execute_reply.started": "2024-03-21T12:24:35.554815Z"
    },
    "papermill": {
     "duration": 0.135461,
     "end_time": "2024-03-21T12:55:07.543433",
     "exception": false,
     "start_time": "2024-03-21T12:55:07.407972",
     "status": "completed"
    },
    "tags": []
   },
   "outputs": [],
   "source": [
    "def safe_norm(s, axis=-1, epsilon=1e-7, keep_dims=False, name=None):\n",
    "    with tf.name_scope(name):\n",
    "        squared_norm = tf.reduce_sum(tf.square(s), axis=axis,\n",
    "                                     keepdims=keep_dims)\n",
    "        return tf.sqrt(squared_norm + epsilon)"
   ]
  },
  {
   "cell_type": "code",
   "execution_count": 43,
   "metadata": {
    "execution": {
     "iopub.execute_input": "2024-03-21T12:55:07.802013Z",
     "iopub.status.busy": "2024-03-21T12:55:07.800958Z",
     "iopub.status.idle": "2024-03-21T12:55:07.806874Z",
     "shell.execute_reply": "2024-03-21T12:55:07.806248Z",
     "shell.execute_reply.started": "2024-03-21T12:24:36.058326Z"
    },
    "papermill": {
     "duration": 0.13614,
     "end_time": "2024-03-21T12:55:07.806982",
     "exception": false,
     "start_time": "2024-03-21T12:55:07.670842",
     "status": "completed"
    },
    "tags": []
   },
   "outputs": [],
   "source": [
    "y_proba = safe_norm(caps2_output, axis=-2, name=\"y_proba\")"
   ]
  },
  {
   "cell_type": "markdown",
   "metadata": {
    "papermill": {
     "duration": 0.125973,
     "end_time": "2024-03-21T12:55:08.060147",
     "exception": false,
     "start_time": "2024-03-21T12:55:07.934174",
     "status": "completed"
    },
    "tags": []
   },
   "source": [
    "To predict the class of each instance, we can just select the one with the highest estimated probability. To do this, let's start by finding its index using tf.argmax():"
   ]
  },
  {
   "cell_type": "code",
   "execution_count": 44,
   "metadata": {
    "execution": {
     "iopub.execute_input": "2024-03-21T12:55:08.319564Z",
     "iopub.status.busy": "2024-03-21T12:55:08.318804Z",
     "iopub.status.idle": "2024-03-21T12:55:08.322047Z",
     "shell.execute_reply": "2024-03-21T12:55:08.321559Z",
     "shell.execute_reply.started": "2024-03-21T12:24:37.295431Z"
    },
    "papermill": {
     "duration": 0.136164,
     "end_time": "2024-03-21T12:55:08.322154",
     "exception": false,
     "start_time": "2024-03-21T12:55:08.185990",
     "status": "completed"
    },
    "tags": []
   },
   "outputs": [],
   "source": [
    "y_proba_argmax = tf.argmax(y_proba, axis=2, name=\"y_proba\")"
   ]
  },
  {
   "cell_type": "markdown",
   "metadata": {
    "papermill": {
     "duration": 0.131331,
     "end_time": "2024-03-21T12:55:08.580394",
     "exception": false,
     "start_time": "2024-03-21T12:55:08.449063",
     "status": "completed"
    },
    "tags": []
   },
   "source": [
    "Let's look at the shape of y_proba_argmax:"
   ]
  },
  {
   "cell_type": "code",
   "execution_count": 45,
   "metadata": {
    "execution": {
     "iopub.execute_input": "2024-03-21T12:55:08.836530Z",
     "iopub.status.busy": "2024-03-21T12:55:08.835603Z",
     "iopub.status.idle": "2024-03-21T12:55:08.839293Z",
     "shell.execute_reply": "2024-03-21T12:55:08.838754Z",
     "shell.execute_reply.started": "2024-03-21T12:24:38.603782Z"
    },
    "papermill": {
     "duration": 0.133613,
     "end_time": "2024-03-21T12:55:08.839393",
     "exception": false,
     "start_time": "2024-03-21T12:55:08.705780",
     "status": "completed"
    },
    "tags": []
   },
   "outputs": [
    {
     "data": {
      "text/plain": [
       "<tf.Tensor 'y_proba_1:0' shape=(None, 1, 1) dtype=int64>"
      ]
     },
     "execution_count": 45,
     "metadata": {},
     "output_type": "execute_result"
    }
   ],
   "source": [
    "y_proba_argmax"
   ]
  },
  {
   "cell_type": "markdown",
   "metadata": {
    "papermill": {
     "duration": 0.12553,
     "end_time": "2024-03-21T12:55:09.092365",
     "exception": false,
     "start_time": "2024-03-21T12:55:08.966835",
     "status": "completed"
    },
    "tags": []
   },
   "source": [
    "\n",
    "\n",
    "That's what we wanted: for each instance, we now have the index of the longest output vector. Let's get rid of the last two dimensions by using tf.squeeze() which removes dimensions of size 1. This gives us the capsule network's predicted class for each instance:\n"
   ]
  },
  {
   "cell_type": "code",
   "execution_count": 46,
   "metadata": {
    "execution": {
     "iopub.execute_input": "2024-03-21T12:55:09.347995Z",
     "iopub.status.busy": "2024-03-21T12:55:09.347238Z",
     "iopub.status.idle": "2024-03-21T12:55:09.350193Z",
     "shell.execute_reply": "2024-03-21T12:55:09.350680Z",
     "shell.execute_reply.started": "2024-03-21T12:24:39.469592Z"
    },
    "papermill": {
     "duration": 0.133649,
     "end_time": "2024-03-21T12:55:09.350808",
     "exception": false,
     "start_time": "2024-03-21T12:55:09.217159",
     "status": "completed"
    },
    "tags": []
   },
   "outputs": [],
   "source": [
    "y_pred = tf.squeeze(y_proba_argmax, axis=[1,2], name=\"y_pred\")"
   ]
  },
  {
   "cell_type": "code",
   "execution_count": 47,
   "metadata": {
    "execution": {
     "iopub.execute_input": "2024-03-21T12:55:09.605620Z",
     "iopub.status.busy": "2024-03-21T12:55:09.604737Z",
     "iopub.status.idle": "2024-03-21T12:55:09.608777Z",
     "shell.execute_reply": "2024-03-21T12:55:09.608199Z",
     "shell.execute_reply.started": "2024-03-21T12:24:40.500465Z"
    },
    "papermill": {
     "duration": 0.132836,
     "end_time": "2024-03-21T12:55:09.608884",
     "exception": false,
     "start_time": "2024-03-21T12:55:09.476048",
     "status": "completed"
    },
    "tags": []
   },
   "outputs": [
    {
     "data": {
      "text/plain": [
       "<tf.Tensor 'y_pred:0' shape=(None,) dtype=int64>"
      ]
     },
     "execution_count": 47,
     "metadata": {},
     "output_type": "execute_result"
    }
   ],
   "source": [
    "y_pred"
   ]
  },
  {
   "cell_type": "markdown",
   "metadata": {
    "papermill": {
     "duration": 0.125957,
     "end_time": "2024-03-21T12:55:09.862299",
     "exception": false,
     "start_time": "2024-03-21T12:55:09.736342",
     "status": "completed"
    },
    "tags": []
   },
   "source": [
    "\n",
    "\n",
    "Okay, we are now ready to define the training operations, starting with the losses.\n"
   ]
  },
  {
   "cell_type": "markdown",
   "metadata": {
    "papermill": {
     "duration": 0.12619,
     "end_time": "2024-03-21T12:55:10.114062",
     "exception": false,
     "start_time": "2024-03-21T12:55:09.987872",
     "status": "completed"
    },
    "tags": []
   },
   "source": [
    "# Labels"
   ]
  },
  {
   "cell_type": "markdown",
   "metadata": {
    "papermill": {
     "duration": 0.12645,
     "end_time": "2024-03-21T12:55:10.366164",
     "exception": false,
     "start_time": "2024-03-21T12:55:10.239714",
     "status": "completed"
    },
    "tags": []
   },
   "source": [
    "First, we will need a placeholder for the labels:"
   ]
  },
  {
   "cell_type": "code",
   "execution_count": 48,
   "metadata": {
    "execution": {
     "iopub.execute_input": "2024-03-21T12:55:10.623060Z",
     "iopub.status.busy": "2024-03-21T12:55:10.622440Z",
     "iopub.status.idle": "2024-03-21T12:55:10.625611Z",
     "shell.execute_reply": "2024-03-21T12:55:10.624975Z",
     "shell.execute_reply.started": "2024-03-21T12:24:44.109570Z"
    },
    "papermill": {
     "duration": 0.133626,
     "end_time": "2024-03-21T12:55:10.625713",
     "exception": false,
     "start_time": "2024-03-21T12:55:10.492087",
     "status": "completed"
    },
    "tags": []
   },
   "outputs": [],
   "source": [
    "y = tf.compat.v1.placeholder(shape=[None], dtype=tf.int64, name=\"y\")"
   ]
  },
  {
   "cell_type": "markdown",
   "metadata": {
    "papermill": {
     "duration": 0.127189,
     "end_time": "2024-03-21T12:55:10.878177",
     "exception": false,
     "start_time": "2024-03-21T12:55:10.750988",
     "status": "completed"
    },
    "tags": []
   },
   "source": [
    "# Margin loss\n",
    "\n",
    "The paper uses a special margin loss to make it possible to detect two or more different digits in each image:\n",
    "\n",
    "$ L_k = T_k \\max(0, m^{+} - \\|\\mathbf{v}_k\\|)^2 + \\lambda (1 - T_k) \\max(0, \\|\\mathbf{v}_k\\| - m^{-})^2$\n",
    "\n",
    "$T_k$ is equal to 1 if the digit of class $k$ is present, or 0 otherwise.\n",
    "In the paper, $m^{+} = 0.9$, $m^{-} = 0.1$ and $\\lambda = 0.5$.\n",
    "Note that there was an error in the video (at 15:47): the max operations are squared, not the norms. Sorry about that.\n",
    "\n"
   ]
  },
  {
   "cell_type": "code",
   "execution_count": 49,
   "metadata": {
    "execution": {
     "iopub.execute_input": "2024-03-21T12:55:11.135354Z",
     "iopub.status.busy": "2024-03-21T12:55:11.134655Z",
     "iopub.status.idle": "2024-03-21T12:55:11.137405Z",
     "shell.execute_reply": "2024-03-21T12:55:11.136773Z",
     "shell.execute_reply.started": "2024-03-21T12:24:46.101456Z"
    },
    "papermill": {
     "duration": 0.133484,
     "end_time": "2024-03-21T12:55:11.137515",
     "exception": false,
     "start_time": "2024-03-21T12:55:11.004031",
     "status": "completed"
    },
    "tags": []
   },
   "outputs": [],
   "source": [
    "m_plus = 0.9\n",
    "m_minus = 0.1\n",
    "lambda_ = 0.5"
   ]
  },
  {
   "cell_type": "markdown",
   "metadata": {
    "papermill": {
     "duration": 0.126064,
     "end_time": "2024-03-21T12:55:11.389944",
     "exception": false,
     "start_time": "2024-03-21T12:55:11.263880",
     "status": "completed"
    },
    "tags": []
   },
   "source": [
    "Since y will contain the digit classes, from 0 to 9, to get $T_k$ for every instance and every class, we can just use the tf.one_hot() function:"
   ]
  },
  {
   "cell_type": "code",
   "execution_count": 50,
   "metadata": {
    "execution": {
     "iopub.execute_input": "2024-03-21T12:55:11.647321Z",
     "iopub.status.busy": "2024-03-21T12:55:11.646651Z",
     "iopub.status.idle": "2024-03-21T12:55:11.649599Z",
     "shell.execute_reply": "2024-03-21T12:55:11.649097Z",
     "shell.execute_reply.started": "2024-03-21T12:24:47.174850Z"
    },
    "papermill": {
     "duration": 0.134348,
     "end_time": "2024-03-21T12:55:11.649707",
     "exception": false,
     "start_time": "2024-03-21T12:55:11.515359",
     "status": "completed"
    },
    "tags": []
   },
   "outputs": [],
   "source": [
    "T = tf.one_hot(y, depth=caps2_n_caps, name=\"T\")"
   ]
  },
  {
   "cell_type": "markdown",
   "metadata": {
    "papermill": {
     "duration": 0.126498,
     "end_time": "2024-03-21T12:55:11.901176",
     "exception": false,
     "start_time": "2024-03-21T12:55:11.774678",
     "status": "completed"
    },
    "tags": []
   },
   "source": [
    "A small example should make it clear what this does:"
   ]
  },
  {
   "cell_type": "code",
   "execution_count": 51,
   "metadata": {
    "execution": {
     "iopub.execute_input": "2024-03-21T12:55:12.158003Z",
     "iopub.status.busy": "2024-03-21T12:55:12.157360Z",
     "iopub.status.idle": "2024-03-21T12:55:12.180005Z",
     "shell.execute_reply": "2024-03-21T12:55:12.179353Z",
     "shell.execute_reply.started": "2024-03-21T12:24:48.118084Z"
    },
    "papermill": {
     "duration": 0.153301,
     "end_time": "2024-03-21T12:55:12.180106",
     "exception": false,
     "start_time": "2024-03-21T12:55:12.026805",
     "status": "completed"
    },
    "tags": []
   },
   "outputs": [
    {
     "name": "stdout",
     "output_type": "stream",
     "text": [
      "[[1. 0. 0. 0. 0. 0. 0. 0. 0. 0.]\n",
      " [0. 1. 0. 0. 0. 0. 0. 0. 0. 0.]\n",
      " [0. 0. 1. 0. 0. 0. 0. 0. 0. 0.]\n",
      " [0. 0. 0. 1. 0. 0. 0. 0. 0. 0.]\n",
      " [0. 0. 0. 0. 0. 0. 0. 0. 0. 1.]]\n"
     ]
    }
   ],
   "source": [
    "with tf.compat.v1.Session():\n",
    "    print(T.eval(feed_dict={y: np.array([0, 1, 2, 3, 9])}))"
   ]
  },
  {
   "cell_type": "markdown",
   "metadata": {
    "papermill": {
     "duration": 0.125965,
     "end_time": "2024-03-21T12:55:12.434158",
     "exception": false,
     "start_time": "2024-03-21T12:55:12.308193",
     "status": "completed"
    },
    "tags": []
   },
   "source": [
    "Now let's compute the norm of the output vector for each output capsule and each instance. First, let's verify the shape of caps2_output:"
   ]
  },
  {
   "cell_type": "code",
   "execution_count": 52,
   "metadata": {
    "execution": {
     "iopub.execute_input": "2024-03-21T12:55:12.692624Z",
     "iopub.status.busy": "2024-03-21T12:55:12.691800Z",
     "iopub.status.idle": "2024-03-21T12:55:12.695494Z",
     "shell.execute_reply": "2024-03-21T12:55:12.695014Z",
     "shell.execute_reply.started": "2024-03-21T12:24:48.814691Z"
    },
    "papermill": {
     "duration": 0.134344,
     "end_time": "2024-03-21T12:55:12.695599",
     "exception": false,
     "start_time": "2024-03-21T12:55:12.561255",
     "status": "completed"
    },
    "tags": []
   },
   "outputs": [
    {
     "data": {
      "text/plain": [
       "<tf.Tensor 'caps2_output_round_2/mul:0' shape=(None, 1, 10, 16, 1) dtype=float32>"
      ]
     },
     "execution_count": 52,
     "metadata": {},
     "output_type": "execute_result"
    }
   ],
   "source": [
    "caps2_output"
   ]
  },
  {
   "cell_type": "markdown",
   "metadata": {
    "papermill": {
     "duration": 0.127984,
     "end_time": "2024-03-21T12:55:12.951671",
     "exception": false,
     "start_time": "2024-03-21T12:55:12.823687",
     "status": "completed"
    },
    "tags": []
   },
   "source": [
    "The 16D output vectors are in the second to last dimension, so let's use the safe_norm() function with axis=-2:"
   ]
  },
  {
   "cell_type": "code",
   "execution_count": 53,
   "metadata": {
    "execution": {
     "iopub.execute_input": "2024-03-21T12:55:13.210751Z",
     "iopub.status.busy": "2024-03-21T12:55:13.209846Z",
     "iopub.status.idle": "2024-03-21T12:55:13.214726Z",
     "shell.execute_reply": "2024-03-21T12:55:13.214081Z",
     "shell.execute_reply.started": "2024-03-21T12:24:49.536209Z"
    },
    "papermill": {
     "duration": 0.137154,
     "end_time": "2024-03-21T12:55:13.214834",
     "exception": false,
     "start_time": "2024-03-21T12:55:13.077680",
     "status": "completed"
    },
    "tags": []
   },
   "outputs": [],
   "source": [
    "caps2_output_norm = safe_norm(caps2_output, axis=-2, keep_dims=True,\n",
    "                              name=\"caps2_output_norm\")"
   ]
  },
  {
   "cell_type": "markdown",
   "metadata": {
    "papermill": {
     "duration": 0.12684,
     "end_time": "2024-03-21T12:55:13.468915",
     "exception": false,
     "start_time": "2024-03-21T12:55:13.342075",
     "status": "completed"
    },
    "tags": []
   },
   "source": [
    "Now let's compute $\\max(0, m^{+} - \\|\\mathbf{v}_k\\|)^2$, and reshape the result to get a simple matrix of shape (batch size, 10):"
   ]
  },
  {
   "cell_type": "code",
   "execution_count": 54,
   "metadata": {
    "execution": {
     "iopub.execute_input": "2024-03-21T12:55:13.728140Z",
     "iopub.status.busy": "2024-03-21T12:55:13.726904Z",
     "iopub.status.idle": "2024-03-21T12:55:13.733534Z",
     "shell.execute_reply": "2024-03-21T12:55:13.732898Z",
     "shell.execute_reply.started": "2024-03-21T12:24:50.165410Z"
    },
    "papermill": {
     "duration": 0.138304,
     "end_time": "2024-03-21T12:55:13.733641",
     "exception": false,
     "start_time": "2024-03-21T12:55:13.595337",
     "status": "completed"
    },
    "tags": []
   },
   "outputs": [],
   "source": [
    "present_error_raw = tf.square(tf.maximum(0., m_plus - caps2_output_norm),\n",
    "                              name=\"present_error_raw\")\n",
    "present_error = tf.reshape(present_error_raw, shape=(-1, 10),\n",
    "                           name=\"present_error\")"
   ]
  },
  {
   "cell_type": "markdown",
   "metadata": {
    "papermill": {
     "duration": 0.12844,
     "end_time": "2024-03-21T12:55:13.988181",
     "exception": false,
     "start_time": "2024-03-21T12:55:13.859741",
     "status": "completed"
    },
    "tags": []
   },
   "source": [
    "Next let's compute $\\max(0, \\|\\mathbf{v}_k\\| - m^{-})^2$ and reshape it:"
   ]
  },
  {
   "cell_type": "code",
   "execution_count": 55,
   "metadata": {
    "execution": {
     "iopub.execute_input": "2024-03-21T12:55:14.247137Z",
     "iopub.status.busy": "2024-03-21T12:55:14.246486Z",
     "iopub.status.idle": "2024-03-21T12:55:14.252280Z",
     "shell.execute_reply": "2024-03-21T12:55:14.251818Z",
     "shell.execute_reply.started": "2024-03-21T12:24:50.865580Z"
    },
    "papermill": {
     "duration": 0.137314,
     "end_time": "2024-03-21T12:55:14.252392",
     "exception": false,
     "start_time": "2024-03-21T12:55:14.115078",
     "status": "completed"
    },
    "tags": []
   },
   "outputs": [],
   "source": [
    "absent_error_raw = tf.square(tf.maximum(0., caps2_output_norm - m_minus),\n",
    "                             name=\"absent_error_raw\")\n",
    "absent_error = tf.reshape(absent_error_raw, shape=(-1, 10),\n",
    "                          name=\"absent_error\")"
   ]
  },
  {
   "cell_type": "markdown",
   "metadata": {
    "papermill": {
     "duration": 0.138654,
     "end_time": "2024-03-21T12:55:14.517678",
     "exception": false,
     "start_time": "2024-03-21T12:55:14.379024",
     "status": "completed"
    },
    "tags": []
   },
   "source": [
    "We are ready to compute the loss for each instance and each digit:"
   ]
  },
  {
   "cell_type": "code",
   "execution_count": 56,
   "metadata": {
    "execution": {
     "iopub.execute_input": "2024-03-21T12:55:14.776175Z",
     "iopub.status.busy": "2024-03-21T12:55:14.775554Z",
     "iopub.status.idle": "2024-03-21T12:55:14.781619Z",
     "shell.execute_reply": "2024-03-21T12:55:14.781103Z",
     "shell.execute_reply.started": "2024-03-21T12:24:51.780012Z"
    },
    "papermill": {
     "duration": 0.136837,
     "end_time": "2024-03-21T12:55:14.781726",
     "exception": false,
     "start_time": "2024-03-21T12:55:14.644889",
     "status": "completed"
    },
    "tags": []
   },
   "outputs": [],
   "source": [
    "L = tf.add(T * present_error, lambda_ * (1.0 - T) * absent_error,\n",
    "           name=\"L\")"
   ]
  },
  {
   "cell_type": "markdown",
   "metadata": {
    "papermill": {
     "duration": 0.126527,
     "end_time": "2024-03-21T12:55:15.036268",
     "exception": false,
     "start_time": "2024-03-21T12:55:14.909741",
     "status": "completed"
    },
    "tags": []
   },
   "source": [
    "Now we can sum the digit losses for each instance ($L_0 + L_1 + \\cdots + L_9$), and compute the mean over all instances. This gives us the final margin loss:"
   ]
  },
  {
   "cell_type": "code",
   "execution_count": 57,
   "metadata": {
    "execution": {
     "iopub.execute_input": "2024-03-21T12:55:15.303885Z",
     "iopub.status.busy": "2024-03-21T12:55:15.302898Z",
     "iopub.status.idle": "2024-03-21T12:55:15.307173Z",
     "shell.execute_reply": "2024-03-21T12:55:15.307649Z",
     "shell.execute_reply.started": "2024-03-21T12:24:52.629472Z"
    },
    "papermill": {
     "duration": 0.1418,
     "end_time": "2024-03-21T12:55:15.307783",
     "exception": false,
     "start_time": "2024-03-21T12:55:15.165983",
     "status": "completed"
    },
    "tags": []
   },
   "outputs": [],
   "source": [
    "margin_loss = tf.reduce_mean(tf.reduce_sum(L, axis=1), name=\"margin_loss\")"
   ]
  },
  {
   "cell_type": "markdown",
   "metadata": {
    "papermill": {
     "duration": 0.125551,
     "end_time": "2024-03-21T12:55:15.559606",
     "exception": false,
     "start_time": "2024-03-21T12:55:15.434055",
     "status": "completed"
    },
    "tags": []
   },
   "source": [
    "# Reconstruction\n",
    "\n",
    "Now let's add a decoder network on top of the capsule network. It is a regular 3-layer fully connected neural network which will learn to reconstruct the input images based on the output of the capsule network. This will force the capsule network to preserve all the information required to reconstruct the digits, across the whole network. This constraint regularizes the model: it reduces the risk of overfitting the training set, and it helps generalize to new digits.\n",
    "\n",
    "## Mask\n",
    "\n",
    "The paper mentions that during training, instead of sending all the outputs of the capsule network to the decoder network, we must send only the output vector of the capsule that corresponds to the target digit. All the other output vectors must be masked out. At inference time, we must mask all output vectors except for the longest one, i.e., the one that corresponds to the predicted digit. You can see this in the paper's figure 2 (at 18:15 in the video): all output vectors are masked out, except for the reconstruction target's output vector.\n",
    "\n",
    "We need a placeholder to tell TensorFlow whether we want to mask the output vectors based on the labels (True) or on the predictions (False, the default):\n"
   ]
  },
  {
   "cell_type": "code",
   "execution_count": 58,
   "metadata": {
    "execution": {
     "iopub.execute_input": "2024-03-21T12:55:15.818058Z",
     "iopub.status.busy": "2024-03-21T12:55:15.817234Z",
     "iopub.status.idle": "2024-03-21T12:55:15.820181Z",
     "shell.execute_reply": "2024-03-21T12:55:15.819682Z",
     "shell.execute_reply.started": "2024-03-21T12:24:53.410258Z"
    },
    "papermill": {
     "duration": 0.134492,
     "end_time": "2024-03-21T12:55:15.820277",
     "exception": false,
     "start_time": "2024-03-21T12:55:15.685785",
     "status": "completed"
    },
    "tags": []
   },
   "outputs": [],
   "source": [
    "mask_with_labels = tf.compat.v1.placeholder_with_default(False, shape=(),\n",
    "                                               name=\"mask_with_labels\")"
   ]
  },
  {
   "cell_type": "markdown",
   "metadata": {
    "papermill": {
     "duration": 0.126142,
     "end_time": "2024-03-21T12:55:16.075195",
     "exception": false,
     "start_time": "2024-03-21T12:55:15.949053",
     "status": "completed"
    },
    "tags": []
   },
   "source": [
    "Now let's use tf.cond() to define the reconstruction targets as the labels y if mask_with_labels is True, or y_pred otherwise."
   ]
  },
  {
   "cell_type": "code",
   "execution_count": 59,
   "metadata": {
    "execution": {
     "iopub.execute_input": "2024-03-21T12:55:16.339184Z",
     "iopub.status.busy": "2024-03-21T12:55:16.338386Z",
     "iopub.status.idle": "2024-03-21T12:55:16.348464Z",
     "shell.execute_reply": "2024-03-21T12:55:16.347957Z",
     "shell.execute_reply.started": "2024-03-21T12:24:54.512421Z"
    },
    "papermill": {
     "duration": 0.147031,
     "end_time": "2024-03-21T12:55:16.348607",
     "exception": false,
     "start_time": "2024-03-21T12:55:16.201576",
     "status": "completed"
    },
    "tags": []
   },
   "outputs": [],
   "source": [
    "reconstruction_targets = tf.cond(mask_with_labels, # condition\n",
    "                                 lambda: y,        # if True\n",
    "                                 lambda: y_pred,   # if False\n",
    "                                 name=\"reconstruction_targets\")"
   ]
  },
  {
   "cell_type": "markdown",
   "metadata": {
    "papermill": {
     "duration": 0.128487,
     "end_time": "2024-03-21T12:55:16.605662",
     "exception": false,
     "start_time": "2024-03-21T12:55:16.477175",
     "status": "completed"
    },
    "tags": []
   },
   "source": [
    "\n",
    "\n",
    "Note that the tf.cond() function expects the if-True and if-False tensors to be passed via functions: these functions will be called just once during the graph construction phase (not during the execution phase), similar to tf.while_loop(). This allows TensorFlow to add the necessary operations to handle the conditional evaluation of the if-True or if-False tensors. However, in our case, the tensors y and y_pred are already created by the time we call tf.cond(), so unfortunately TensorFlow will consider both y and y_pred to be dependencies of the reconstruction_targets tensor. The reconstruction_targets tensor will end up with the correct value, but:\n",
    "\n",
    "1. whenever we evaluate a tensor that depends on reconstruction_targets, the y_pred tensor will be evaluated (even if mask_with_layers is True). This is not a big deal because computing y_pred adds no computing overhead during training, since we need it anyway to compute the margin loss. And during testing, if we are doing classification, we won't need reconstructions, so reconstruction_targets won't be evaluated at all.\n",
    "1. we will always need to feed a value for the y placeholder (even if mask_with_layers is False). This is a bit annoying, but we can pass an empty array, because TensorFlow won't use it anyway (it just does not know it yet when it checks for dependencies).\n",
    "\n",
    "Now that we have the reconstruction targets, let's create the reconstruction mask. It should be equal to 1.0 for the target class, and 0.0 for the other classes, for each instance. For this we can just use the tf.one_hot() function:\n"
   ]
  },
  {
   "cell_type": "code",
   "execution_count": 60,
   "metadata": {
    "execution": {
     "iopub.execute_input": "2024-03-21T12:55:16.886287Z",
     "iopub.status.busy": "2024-03-21T12:55:16.885264Z",
     "iopub.status.idle": "2024-03-21T12:55:16.888186Z",
     "shell.execute_reply": "2024-03-21T12:55:16.887296Z",
     "shell.execute_reply.started": "2024-03-21T12:24:55.562605Z"
    },
    "papermill": {
     "duration": 0.154344,
     "end_time": "2024-03-21T12:55:16.888301",
     "exception": false,
     "start_time": "2024-03-21T12:55:16.733957",
     "status": "completed"
    },
    "tags": []
   },
   "outputs": [],
   "source": [
    "reconstruction_mask = tf.one_hot(reconstruction_targets,\n",
    "                                 depth=caps2_n_caps,\n",
    "                                 name=\"reconstruction_mask\")"
   ]
  },
  {
   "cell_type": "markdown",
   "metadata": {
    "papermill": {
     "duration": 0.126669,
     "end_time": "2024-03-21T12:55:17.172411",
     "exception": false,
     "start_time": "2024-03-21T12:55:17.045742",
     "status": "completed"
    },
    "tags": []
   },
   "source": [
    "\n",
    "\n",
    "Let's check the shape of reconstruction_mask:\n"
   ]
  },
  {
   "cell_type": "code",
   "execution_count": 61,
   "metadata": {
    "execution": {
     "iopub.execute_input": "2024-03-21T12:55:17.430166Z",
     "iopub.status.busy": "2024-03-21T12:55:17.429566Z",
     "iopub.status.idle": "2024-03-21T12:55:17.434887Z",
     "shell.execute_reply": "2024-03-21T12:55:17.434240Z",
     "shell.execute_reply.started": "2024-03-21T12:24:56.427077Z"
    },
    "papermill": {
     "duration": 0.135665,
     "end_time": "2024-03-21T12:55:17.434990",
     "exception": false,
     "start_time": "2024-03-21T12:55:17.299325",
     "status": "completed"
    },
    "tags": []
   },
   "outputs": [
    {
     "data": {
      "text/plain": [
       "<tf.Tensor 'reconstruction_mask:0' shape=(None, 10) dtype=float32>"
      ]
     },
     "execution_count": 61,
     "metadata": {},
     "output_type": "execute_result"
    }
   ],
   "source": [
    "reconstruction_mask"
   ]
  },
  {
   "cell_type": "markdown",
   "metadata": {
    "papermill": {
     "duration": 0.127702,
     "end_time": "2024-03-21T12:55:17.689675",
     "exception": false,
     "start_time": "2024-03-21T12:55:17.561973",
     "status": "completed"
    },
    "tags": []
   },
   "source": [
    "\n",
    "\n",
    "Let's compare this to the shape of caps2_output:\n"
   ]
  },
  {
   "cell_type": "code",
   "execution_count": 62,
   "metadata": {
    "execution": {
     "iopub.execute_input": "2024-03-21T12:55:17.951381Z",
     "iopub.status.busy": "2024-03-21T12:55:17.950666Z",
     "iopub.status.idle": "2024-03-21T12:55:17.954785Z",
     "shell.execute_reply": "2024-03-21T12:55:17.954114Z",
     "shell.execute_reply.started": "2024-03-21T12:25:02.004952Z"
    },
    "papermill": {
     "duration": 0.138589,
     "end_time": "2024-03-21T12:55:17.954905",
     "exception": false,
     "start_time": "2024-03-21T12:55:17.816316",
     "status": "completed"
    },
    "tags": []
   },
   "outputs": [
    {
     "data": {
      "text/plain": [
       "<tf.Tensor 'caps2_output_round_2/mul:0' shape=(None, 1, 10, 16, 1) dtype=float32>"
      ]
     },
     "execution_count": 62,
     "metadata": {},
     "output_type": "execute_result"
    }
   ],
   "source": [
    "caps2_output"
   ]
  },
  {
   "cell_type": "markdown",
   "metadata": {
    "papermill": {
     "duration": 0.127262,
     "end_time": "2024-03-21T12:55:18.210518",
     "exception": false,
     "start_time": "2024-03-21T12:55:18.083256",
     "status": "completed"
    },
    "tags": []
   },
   "source": [
    "Mmh, its shape is (batch size, 1, 10, 16, 1). We want to multiply it by the reconstruction_mask, but the shape of the reconstruction_mask is (batch size, 10). We must reshape it to (batch size, 1, 10, 1, 1) to make multiplication possible:"
   ]
  },
  {
   "cell_type": "code",
   "execution_count": 63,
   "metadata": {
    "execution": {
     "iopub.execute_input": "2024-03-21T12:55:18.472076Z",
     "iopub.status.busy": "2024-03-21T12:55:18.471299Z",
     "iopub.status.idle": "2024-03-21T12:55:18.474531Z",
     "shell.execute_reply": "2024-03-21T12:55:18.473984Z",
     "shell.execute_reply.started": "2024-03-21T12:25:03.948121Z"
    },
    "papermill": {
     "duration": 0.136158,
     "end_time": "2024-03-21T12:55:18.474639",
     "exception": false,
     "start_time": "2024-03-21T12:55:18.338481",
     "status": "completed"
    },
    "tags": []
   },
   "outputs": [],
   "source": [
    "reconstruction_mask_reshaped = tf.reshape(\n",
    "    reconstruction_mask, [-1, 1, caps2_n_caps, 1, 1],\n",
    "    name=\"reconstruction_mask_reshaped\")"
   ]
  },
  {
   "cell_type": "markdown",
   "metadata": {
    "papermill": {
     "duration": 0.126936,
     "end_time": "2024-03-21T12:55:18.728582",
     "exception": false,
     "start_time": "2024-03-21T12:55:18.601646",
     "status": "completed"
    },
    "tags": []
   },
   "source": [
    "At last! We can apply the mask:"
   ]
  },
  {
   "cell_type": "code",
   "execution_count": 64,
   "metadata": {
    "execution": {
     "iopub.execute_input": "2024-03-21T12:55:18.992441Z",
     "iopub.status.busy": "2024-03-21T12:55:18.991727Z",
     "iopub.status.idle": "2024-03-21T12:55:18.994892Z",
     "shell.execute_reply": "2024-03-21T12:55:18.994245Z",
     "shell.execute_reply.started": "2024-03-21T12:25:05.130587Z"
    },
    "papermill": {
     "duration": 0.137275,
     "end_time": "2024-03-21T12:55:18.994998",
     "exception": false,
     "start_time": "2024-03-21T12:55:18.857723",
     "status": "completed"
    },
    "tags": []
   },
   "outputs": [],
   "source": [
    "caps2_output_masked = tf.multiply(\n",
    "    caps2_output, reconstruction_mask_reshaped,\n",
    "    name=\"caps2_output_masked\")"
   ]
  },
  {
   "cell_type": "code",
   "execution_count": 65,
   "metadata": {
    "execution": {
     "iopub.execute_input": "2024-03-21T12:55:19.254360Z",
     "iopub.status.busy": "2024-03-21T12:55:19.253593Z",
     "iopub.status.idle": "2024-03-21T12:55:19.257487Z",
     "shell.execute_reply": "2024-03-21T12:55:19.256867Z",
     "shell.execute_reply.started": "2024-03-21T12:25:05.619101Z"
    },
    "papermill": {
     "duration": 0.134457,
     "end_time": "2024-03-21T12:55:19.257598",
     "exception": false,
     "start_time": "2024-03-21T12:55:19.123141",
     "status": "completed"
    },
    "tags": []
   },
   "outputs": [
    {
     "data": {
      "text/plain": [
       "<tf.Tensor 'caps2_output_masked:0' shape=(None, 1, 10, 16, 1) dtype=float32>"
      ]
     },
     "execution_count": 65,
     "metadata": {},
     "output_type": "execute_result"
    }
   ],
   "source": [
    "caps2_output_masked"
   ]
  },
  {
   "cell_type": "markdown",
   "metadata": {
    "papermill": {
     "duration": 0.12732,
     "end_time": "2024-03-21T12:55:19.512303",
     "exception": false,
     "start_time": "2024-03-21T12:55:19.384983",
     "status": "completed"
    },
    "tags": []
   },
   "source": [
    "One last reshape operation to flatten the decoder's inputs:"
   ]
  },
  {
   "cell_type": "code",
   "execution_count": 66,
   "metadata": {
    "execution": {
     "iopub.execute_input": "2024-03-21T12:55:19.772618Z",
     "iopub.status.busy": "2024-03-21T12:55:19.771676Z",
     "iopub.status.idle": "2024-03-21T12:55:19.775201Z",
     "shell.execute_reply": "2024-03-21T12:55:19.774721Z",
     "shell.execute_reply.started": "2024-03-21T12:25:07.171527Z"
    },
    "papermill": {
     "duration": 0.135459,
     "end_time": "2024-03-21T12:55:19.775306",
     "exception": false,
     "start_time": "2024-03-21T12:55:19.639847",
     "status": "completed"
    },
    "tags": []
   },
   "outputs": [],
   "source": [
    "decoder_input = tf.reshape(caps2_output_masked,\n",
    "                           [-1, caps2_n_caps * caps2_n_dims],\n",
    "                           name=\"decoder_input\")"
   ]
  },
  {
   "cell_type": "markdown",
   "metadata": {
    "papermill": {
     "duration": 0.127763,
     "end_time": "2024-03-21T12:55:20.031968",
     "exception": false,
     "start_time": "2024-03-21T12:55:19.904205",
     "status": "completed"
    },
    "tags": []
   },
   "source": [
    "# Decoder"
   ]
  },
  {
   "cell_type": "markdown",
   "metadata": {
    "papermill": {
     "duration": 0.145522,
     "end_time": "2024-03-21T12:55:20.324997",
     "exception": false,
     "start_time": "2024-03-21T12:55:20.179475",
     "status": "completed"
    },
    "tags": []
   },
   "source": [
    "Now let's build the decoder. It's quite simple: two dense (fully connected) ReLU layers followed by a dense output sigmoid layer:"
   ]
  },
  {
   "cell_type": "code",
   "execution_count": 67,
   "metadata": {
    "execution": {
     "iopub.execute_input": "2024-03-21T12:55:20.603578Z",
     "iopub.status.busy": "2024-03-21T12:55:20.602664Z",
     "iopub.status.idle": "2024-03-21T12:55:20.605833Z",
     "shell.execute_reply": "2024-03-21T12:55:20.605275Z",
     "shell.execute_reply.started": "2024-03-21T12:25:08.557458Z"
    },
    "papermill": {
     "duration": 0.14131,
     "end_time": "2024-03-21T12:55:20.605947",
     "exception": false,
     "start_time": "2024-03-21T12:55:20.464637",
     "status": "completed"
    },
    "tags": []
   },
   "outputs": [],
   "source": [
    "n_hidden1 = 512\n",
    "n_hidden2 = 1024\n",
    "n_output = 28 * 28"
   ]
  },
  {
   "cell_type": "code",
   "execution_count": 68,
   "metadata": {
    "execution": {
     "iopub.execute_input": "2024-03-21T12:55:20.874765Z",
     "iopub.status.busy": "2024-03-21T12:55:20.872236Z",
     "iopub.status.idle": "2024-03-21T12:55:21.043187Z",
     "shell.execute_reply": "2024-03-21T12:55:21.042435Z",
     "shell.execute_reply.started": "2024-03-21T12:25:08.968641Z"
    },
    "papermill": {
     "duration": 0.308382,
     "end_time": "2024-03-21T12:55:21.043311",
     "exception": false,
     "start_time": "2024-03-21T12:55:20.734929",
     "status": "completed"
    },
    "tags": []
   },
   "outputs": [],
   "source": [
    "with tf.name_scope(\"decoder\"):\n",
    "    hidden1 = tf.compat.v1.layers.dense(decoder_input, n_hidden1,\n",
    "                              activation=tf.nn.relu,\n",
    "                                        name=\"hidden1\")\n",
    "    hidden2 = tf.compat.v1.layers.dense(hidden1, n_hidden2,\n",
    "                                        activation=tf.nn.relu,\n",
    "                                        name=\"hidden2\")\n",
    "    decoder_output = tf.compat.v1.layers.dense(hidden2, n_output,\n",
    "                                               activation=tf.nn.sigmoid,\n",
    "                                               name=\"decoder_output\")"
   ]
  },
  {
   "cell_type": "markdown",
   "metadata": {
    "papermill": {
     "duration": 0.128317,
     "end_time": "2024-03-21T12:55:21.303570",
     "exception": false,
     "start_time": "2024-03-21T12:55:21.175253",
     "status": "completed"
    },
    "tags": []
   },
   "source": [
    "## Reconstruction Loss\n",
    "\n",
    "\n",
    "Now let's compute the reconstruction loss. It is just the squared difference between the input image and the reconstructed image:\n"
   ]
  },
  {
   "cell_type": "code",
   "execution_count": 69,
   "metadata": {
    "execution": {
     "iopub.execute_input": "2024-03-21T12:55:21.565218Z",
     "iopub.status.busy": "2024-03-21T12:55:21.564613Z",
     "iopub.status.idle": "2024-03-21T12:55:21.569860Z",
     "shell.execute_reply": "2024-03-21T12:55:21.569245Z",
     "shell.execute_reply.started": "2024-03-21T12:25:09.624229Z"
    },
    "papermill": {
     "duration": 0.13858,
     "end_time": "2024-03-21T12:55:21.569962",
     "exception": false,
     "start_time": "2024-03-21T12:55:21.431382",
     "status": "completed"
    },
    "tags": []
   },
   "outputs": [],
   "source": [
    "X_flat = tf.reshape(X, [-1, n_output], name=\"X_flat\")\n",
    "squared_difference = tf.square(X_flat - decoder_output,\n",
    "                               name=\"squared_difference\")\n",
    "reconstruction_loss = tf.reduce_mean(squared_difference,\n",
    "                                    name=\"reconstruction_loss\")"
   ]
  },
  {
   "cell_type": "markdown",
   "metadata": {
    "papermill": {
     "duration": 0.126912,
     "end_time": "2024-03-21T12:55:21.823738",
     "exception": false,
     "start_time": "2024-03-21T12:55:21.696826",
     "status": "completed"
    },
    "tags": []
   },
   "source": [
    "## Final Loss\n",
    "The final loss is the sum of the margin loss and the reconstruction loss (scaled down by a factor of 0.0005 to ensure the margin loss dominates training):"
   ]
  },
  {
   "cell_type": "code",
   "execution_count": 70,
   "metadata": {
    "execution": {
     "iopub.execute_input": "2024-03-21T12:55:22.086935Z",
     "iopub.status.busy": "2024-03-21T12:55:22.086104Z",
     "iopub.status.idle": "2024-03-21T12:55:22.088986Z",
     "shell.execute_reply": "2024-03-21T12:55:22.088486Z",
     "shell.execute_reply.started": "2024-03-21T12:25:10.254603Z"
    },
    "papermill": {
     "duration": 0.135697,
     "end_time": "2024-03-21T12:55:22.089087",
     "exception": false,
     "start_time": "2024-03-21T12:55:21.953390",
     "status": "completed"
    },
    "tags": []
   },
   "outputs": [],
   "source": [
    "alpha = 0.0005\n",
    "\n",
    "loss = tf.add(margin_loss, alpha * reconstruction_loss, name=\"loss\")"
   ]
  },
  {
   "cell_type": "markdown",
   "metadata": {
    "papermill": {
     "duration": 0.126954,
     "end_time": "2024-03-21T12:55:22.343376",
     "exception": false,
     "start_time": "2024-03-21T12:55:22.216422",
     "status": "completed"
    },
    "tags": []
   },
   "source": [
    "# Final Touches\n",
    "## Accuracy\n",
    "To measure our model's accuracy, we need to count the number of instances that are properly classified. For this, we can simply compare y and y_pred, convert the boolean value to a float32 (0.0 for False, 1.0 for True), and compute the mean over all the instances:\n"
   ]
  },
  {
   "cell_type": "code",
   "execution_count": 71,
   "metadata": {
    "execution": {
     "iopub.execute_input": "2024-03-21T12:55:22.606568Z",
     "iopub.status.busy": "2024-03-21T12:55:22.605676Z",
     "iopub.status.idle": "2024-03-21T12:55:22.609774Z",
     "shell.execute_reply": "2024-03-21T12:55:22.609241Z",
     "shell.execute_reply.started": "2024-03-21T12:25:10.782411Z"
    },
    "papermill": {
     "duration": 0.138969,
     "end_time": "2024-03-21T12:55:22.609884",
     "exception": false,
     "start_time": "2024-03-21T12:55:22.470915",
     "status": "completed"
    },
    "tags": []
   },
   "outputs": [],
   "source": [
    "correct = tf.equal(y, y_pred, name=\"correct\")\n",
    "accuracy = tf.reduce_mean(tf.cast(correct, tf.float32), name=\"accuracy\")"
   ]
  },
  {
   "cell_type": "markdown",
   "metadata": {
    "papermill": {
     "duration": 0.128682,
     "end_time": "2024-03-21T12:55:22.866636",
     "exception": false,
     "start_time": "2024-03-21T12:55:22.737954",
     "status": "completed"
    },
    "tags": []
   },
   "source": [
    "## Training Operations\n",
    "\n",
    "The paper mentions that the authors used the Adam optimizer with TensorFlow's default parameters:\n"
   ]
  },
  {
   "cell_type": "code",
   "execution_count": 72,
   "metadata": {
    "execution": {
     "iopub.execute_input": "2024-03-21T12:55:23.128881Z",
     "iopub.status.busy": "2024-03-21T12:55:23.128225Z",
     "iopub.status.idle": "2024-03-21T12:55:23.536264Z",
     "shell.execute_reply": "2024-03-21T12:55:23.535613Z",
     "shell.execute_reply.started": "2024-03-21T12:25:11.253033Z"
    },
    "papermill": {
     "duration": 0.540495,
     "end_time": "2024-03-21T12:55:23.536371",
     "exception": false,
     "start_time": "2024-03-21T12:55:22.995876",
     "status": "completed"
    },
    "tags": []
   },
   "outputs": [],
   "source": [
    "optimizer = tf.compat.v1.train.AdamOptimizer()\n",
    "training_op = optimizer.minimize(loss, name=\"training_op\")"
   ]
  },
  {
   "cell_type": "markdown",
   "metadata": {
    "papermill": {
     "duration": 0.127057,
     "end_time": "2024-03-21T12:55:23.791030",
     "exception": false,
     "start_time": "2024-03-21T12:55:23.663973",
     "status": "completed"
    },
    "tags": []
   },
   "source": [
    "## Init and Saver\n",
    "\n",
    "And let's add the usual variable initializer, as well as a Saver:\n"
   ]
  },
  {
   "cell_type": "code",
   "execution_count": 73,
   "metadata": {
    "execution": {
     "iopub.execute_input": "2024-03-21T12:55:24.054765Z",
     "iopub.status.busy": "2024-03-21T12:55:24.054115Z",
     "iopub.status.idle": "2024-03-21T12:55:24.093021Z",
     "shell.execute_reply": "2024-03-21T12:55:24.092521Z",
     "shell.execute_reply.started": "2024-03-21T12:25:11.769202Z"
    },
    "papermill": {
     "duration": 0.17139,
     "end_time": "2024-03-21T12:55:24.093129",
     "exception": false,
     "start_time": "2024-03-21T12:55:23.921739",
     "status": "completed"
    },
    "tags": []
   },
   "outputs": [],
   "source": [
    "init = tf.compat.v1.global_variables_initializer()\n",
    "saver = tf.compat.v1.train.Saver()"
   ]
  },
  {
   "cell_type": "markdown",
   "metadata": {
    "papermill": {
     "duration": 0.131145,
     "end_time": "2024-03-21T12:55:24.355117",
     "exception": false,
     "start_time": "2024-03-21T12:55:24.223972",
     "status": "completed"
    },
    "tags": []
   },
   "source": [
    "And... we're done with the construction phase! Please take a moment to celebrate. :)"
   ]
  },
  {
   "cell_type": "markdown",
   "metadata": {
    "papermill": {
     "duration": 0.127146,
     "end_time": "2024-03-21T12:55:24.611208",
     "exception": false,
     "start_time": "2024-03-21T12:55:24.484062",
     "status": "completed"
    },
    "tags": []
   },
   "source": [
    "\n",
    "Training\n",
    "\n",
    "Training our capsule network is pretty standard. For simplicity, we won't do any fancy hyperparameter tuning, dropout or anything, we will just run the training operation over and over again, displaying the loss, and at the end of each epoch, measure the accuracy on the validation set, display it, and save the model if the validation loss is the lowest seen found so far (this is a basic way to implement early stopping, without actually stopping). Hopefully the code should be self-explanatory, but here are a few details to note:\n",
    "\n",
    "* if a checkpoint file exists, it will be restored (this makes it possible to interrupt training, then restart it later from the last checkpoint),\n",
    "* we must not forget to feed mask_with_labels=True during training,\n",
    "* during testing, we let mask_with_labels default to False (but we still feed the labels since they are required to compute the accuracy),\n",
    "* the images loaded via mnist.train.next_batch() are represented as float32 arrays of shape [784], but the input placeholder X expects a float32 array of shape [28, 28, 1], so we must reshape the images before we feed them to our model,\n",
    "* we evaluate the model's loss and accuracy on the full validation set (5,000 instances). To view progress and support systems that don't have a lot of RAM, the code evaluates the loss and accuracy on one batch at a time, and computes the mean loss and mean accuracy at the end.\n",
    "\n",
    "Warning: if you don't have a GPU, training will take a very long time (at least a few hours). With a GPU, it should take just a few minutes per epoch (e.g., 6 minutes on an NVidia GeForce GTX 1080Ti).\n"
   ]
  },
  {
   "cell_type": "code",
   "execution_count": 74,
   "metadata": {
    "execution": {
     "iopub.execute_input": "2024-03-21T12:55:24.872032Z",
     "iopub.status.busy": "2024-03-21T12:55:24.871279Z",
     "iopub.status.idle": "2024-03-21T12:55:24.875167Z",
     "shell.execute_reply": "2024-03-21T12:55:24.874566Z",
     "shell.execute_reply.started": "2024-03-21T12:25:12.346218Z"
    },
    "papermill": {
     "duration": 0.136987,
     "end_time": "2024-03-21T12:55:24.875266",
     "exception": false,
     "start_time": "2024-03-21T12:55:24.738279",
     "status": "completed"
    },
    "tags": []
   },
   "outputs": [
    {
     "data": {
      "text/plain": [
       "60000"
      ]
     },
     "execution_count": 74,
     "metadata": {},
     "output_type": "execute_result"
    }
   ],
   "source": [
    "len(X_train)"
   ]
  },
  {
   "cell_type": "code",
   "execution_count": 75,
   "metadata": {
    "execution": {
     "iopub.execute_input": "2024-03-21T12:55:25.145946Z",
     "iopub.status.busy": "2024-03-21T12:55:25.145252Z",
     "iopub.status.idle": "2024-03-21T12:55:25.149539Z",
     "shell.execute_reply": "2024-03-21T12:55:25.149031Z",
     "shell.execute_reply.started": "2024-03-21T12:25:12.495428Z"
    },
    "papermill": {
     "duration": 0.145496,
     "end_time": "2024-03-21T12:55:25.149649",
     "exception": false,
     "start_time": "2024-03-21T12:55:25.004153",
     "status": "completed"
    },
    "tags": []
   },
   "outputs": [
    {
     "data": {
      "text/plain": [
       "array([[[[0.],\n",
       "         [0.],\n",
       "         [0.],\n",
       "         ...,\n",
       "         [0.],\n",
       "         [0.],\n",
       "         [0.]],\n",
       "\n",
       "        [[0.],\n",
       "         [0.],\n",
       "         [0.],\n",
       "         ...,\n",
       "         [0.],\n",
       "         [0.],\n",
       "         [0.]],\n",
       "\n",
       "        [[0.],\n",
       "         [0.],\n",
       "         [0.],\n",
       "         ...,\n",
       "         [0.],\n",
       "         [0.],\n",
       "         [0.]],\n",
       "\n",
       "        ...,\n",
       "\n",
       "        [[0.],\n",
       "         [0.],\n",
       "         [0.],\n",
       "         ...,\n",
       "         [0.],\n",
       "         [0.],\n",
       "         [0.]],\n",
       "\n",
       "        [[0.],\n",
       "         [0.],\n",
       "         [0.],\n",
       "         ...,\n",
       "         [0.],\n",
       "         [0.],\n",
       "         [0.]],\n",
       "\n",
       "        [[0.],\n",
       "         [0.],\n",
       "         [0.],\n",
       "         ...,\n",
       "         [0.],\n",
       "         [0.],\n",
       "         [0.]]],\n",
       "\n",
       "\n",
       "       [[[0.],\n",
       "         [0.],\n",
       "         [0.],\n",
       "         ...,\n",
       "         [0.],\n",
       "         [0.],\n",
       "         [0.]],\n",
       "\n",
       "        [[0.],\n",
       "         [0.],\n",
       "         [0.],\n",
       "         ...,\n",
       "         [0.],\n",
       "         [0.],\n",
       "         [0.]],\n",
       "\n",
       "        [[0.],\n",
       "         [0.],\n",
       "         [0.],\n",
       "         ...,\n",
       "         [0.],\n",
       "         [0.],\n",
       "         [0.]],\n",
       "\n",
       "        ...,\n",
       "\n",
       "        [[0.],\n",
       "         [0.],\n",
       "         [0.],\n",
       "         ...,\n",
       "         [0.],\n",
       "         [0.],\n",
       "         [0.]],\n",
       "\n",
       "        [[0.],\n",
       "         [0.],\n",
       "         [0.],\n",
       "         ...,\n",
       "         [0.],\n",
       "         [0.],\n",
       "         [0.]],\n",
       "\n",
       "        [[0.],\n",
       "         [0.],\n",
       "         [0.],\n",
       "         ...,\n",
       "         [0.],\n",
       "         [0.],\n",
       "         [0.]]],\n",
       "\n",
       "\n",
       "       [[[0.],\n",
       "         [0.],\n",
       "         [0.],\n",
       "         ...,\n",
       "         [0.],\n",
       "         [0.],\n",
       "         [0.]],\n",
       "\n",
       "        [[0.],\n",
       "         [0.],\n",
       "         [0.],\n",
       "         ...,\n",
       "         [0.],\n",
       "         [0.],\n",
       "         [0.]],\n",
       "\n",
       "        [[0.],\n",
       "         [0.],\n",
       "         [0.],\n",
       "         ...,\n",
       "         [0.],\n",
       "         [0.],\n",
       "         [0.]],\n",
       "\n",
       "        ...,\n",
       "\n",
       "        [[0.],\n",
       "         [0.],\n",
       "         [0.],\n",
       "         ...,\n",
       "         [0.],\n",
       "         [0.],\n",
       "         [0.]],\n",
       "\n",
       "        [[0.],\n",
       "         [0.],\n",
       "         [0.],\n",
       "         ...,\n",
       "         [0.],\n",
       "         [0.],\n",
       "         [0.]],\n",
       "\n",
       "        [[0.],\n",
       "         [0.],\n",
       "         [0.],\n",
       "         ...,\n",
       "         [0.],\n",
       "         [0.],\n",
       "         [0.]]],\n",
       "\n",
       "\n",
       "       ...,\n",
       "\n",
       "\n",
       "       [[[0.],\n",
       "         [0.],\n",
       "         [0.],\n",
       "         ...,\n",
       "         [0.],\n",
       "         [0.],\n",
       "         [0.]],\n",
       "\n",
       "        [[0.],\n",
       "         [0.],\n",
       "         [0.],\n",
       "         ...,\n",
       "         [0.],\n",
       "         [0.],\n",
       "         [0.]],\n",
       "\n",
       "        [[0.],\n",
       "         [0.],\n",
       "         [0.],\n",
       "         ...,\n",
       "         [0.],\n",
       "         [0.],\n",
       "         [0.]],\n",
       "\n",
       "        ...,\n",
       "\n",
       "        [[0.],\n",
       "         [0.],\n",
       "         [0.],\n",
       "         ...,\n",
       "         [0.],\n",
       "         [0.],\n",
       "         [0.]],\n",
       "\n",
       "        [[0.],\n",
       "         [0.],\n",
       "         [0.],\n",
       "         ...,\n",
       "         [0.],\n",
       "         [0.],\n",
       "         [0.]],\n",
       "\n",
       "        [[0.],\n",
       "         [0.],\n",
       "         [0.],\n",
       "         ...,\n",
       "         [0.],\n",
       "         [0.],\n",
       "         [0.]]],\n",
       "\n",
       "\n",
       "       [[[0.],\n",
       "         [0.],\n",
       "         [0.],\n",
       "         ...,\n",
       "         [0.],\n",
       "         [0.],\n",
       "         [0.]],\n",
       "\n",
       "        [[0.],\n",
       "         [0.],\n",
       "         [0.],\n",
       "         ...,\n",
       "         [0.],\n",
       "         [0.],\n",
       "         [0.]],\n",
       "\n",
       "        [[0.],\n",
       "         [0.],\n",
       "         [0.],\n",
       "         ...,\n",
       "         [0.],\n",
       "         [0.],\n",
       "         [0.]],\n",
       "\n",
       "        ...,\n",
       "\n",
       "        [[0.],\n",
       "         [0.],\n",
       "         [0.],\n",
       "         ...,\n",
       "         [0.],\n",
       "         [0.],\n",
       "         [0.]],\n",
       "\n",
       "        [[0.],\n",
       "         [0.],\n",
       "         [0.],\n",
       "         ...,\n",
       "         [0.],\n",
       "         [0.],\n",
       "         [0.]],\n",
       "\n",
       "        [[0.],\n",
       "         [0.],\n",
       "         [0.],\n",
       "         ...,\n",
       "         [0.],\n",
       "         [0.],\n",
       "         [0.]]],\n",
       "\n",
       "\n",
       "       [[[0.],\n",
       "         [0.],\n",
       "         [0.],\n",
       "         ...,\n",
       "         [0.],\n",
       "         [0.],\n",
       "         [0.]],\n",
       "\n",
       "        [[0.],\n",
       "         [0.],\n",
       "         [0.],\n",
       "         ...,\n",
       "         [0.],\n",
       "         [0.],\n",
       "         [0.]],\n",
       "\n",
       "        [[0.],\n",
       "         [0.],\n",
       "         [0.],\n",
       "         ...,\n",
       "         [0.],\n",
       "         [0.],\n",
       "         [0.]],\n",
       "\n",
       "        ...,\n",
       "\n",
       "        [[0.],\n",
       "         [0.],\n",
       "         [0.],\n",
       "         ...,\n",
       "         [0.],\n",
       "         [0.],\n",
       "         [0.]],\n",
       "\n",
       "        [[0.],\n",
       "         [0.],\n",
       "         [0.],\n",
       "         ...,\n",
       "         [0.],\n",
       "         [0.],\n",
       "         [0.]],\n",
       "\n",
       "        [[0.],\n",
       "         [0.],\n",
       "         [0.],\n",
       "         ...,\n",
       "         [0.],\n",
       "         [0.],\n",
       "         [0.]]]], dtype=float32)"
      ]
     },
     "execution_count": 75,
     "metadata": {},
     "output_type": "execute_result"
    }
   ],
   "source": [
    "X_train[0:0+50]"
   ]
  },
  {
   "cell_type": "markdown",
   "metadata": {
    "papermill": {
     "duration": 0.129531,
     "end_time": "2024-03-21T12:55:25.409128",
     "exception": false,
     "start_time": "2024-03-21T12:55:25.279597",
     "status": "completed"
    },
    "tags": []
   },
   "source": [
    "Need to split test in validation!"
   ]
  },
  {
   "cell_type": "code",
   "execution_count": 76,
   "metadata": {
    "execution": {
     "iopub.execute_input": "2024-03-21T12:55:25.670561Z",
     "iopub.status.busy": "2024-03-21T12:55:25.669793Z",
     "iopub.status.idle": "2024-03-21T12:55:26.361970Z",
     "shell.execute_reply": "2024-03-21T12:55:26.361310Z",
     "shell.execute_reply.started": "2024-03-21T12:25:12.911247Z"
    },
    "papermill": {
     "duration": 0.825001,
     "end_time": "2024-03-21T12:55:26.362099",
     "exception": false,
     "start_time": "2024-03-21T12:55:25.537098",
     "status": "completed"
    },
    "tags": []
   },
   "outputs": [],
   "source": [
    "from sklearn.model_selection import train_test_split\n",
    "X_train, X_val, Y_train, Y_val = train_test_split(X_train, Y_train, test_size=0.08, random_state=42)"
   ]
  },
  {
   "cell_type": "code",
   "execution_count": 77,
   "metadata": {
    "execution": {
     "iopub.execute_input": "2024-03-21T12:55:26.625045Z",
     "iopub.status.busy": "2024-03-21T12:55:26.624152Z",
     "iopub.status.idle": "2024-03-21T12:55:26.628302Z",
     "shell.execute_reply": "2024-03-21T12:55:26.627716Z",
     "shell.execute_reply.started": "2024-03-21T12:25:13.662395Z"
    },
    "papermill": {
     "duration": 0.137052,
     "end_time": "2024-03-21T12:55:26.628412",
     "exception": false,
     "start_time": "2024-03-21T12:55:26.491360",
     "status": "completed"
    },
    "tags": []
   },
   "outputs": [
    {
     "data": {
      "text/plain": [
       "55200"
      ]
     },
     "execution_count": 77,
     "metadata": {},
     "output_type": "execute_result"
    }
   ],
   "source": [
    "len(X_train)"
   ]
  },
  {
   "cell_type": "code",
   "execution_count": 78,
   "metadata": {
    "execution": {
     "iopub.execute_input": "2024-03-21T12:55:26.938893Z",
     "iopub.status.busy": "2024-03-21T12:55:26.938014Z",
     "iopub.status.idle": "2024-03-21T12:55:26.942025Z",
     "shell.execute_reply": "2024-03-21T12:55:26.941537Z",
     "shell.execute_reply.started": "2024-03-21T12:25:13.669118Z"
    },
    "papermill": {
     "duration": 0.160363,
     "end_time": "2024-03-21T12:55:26.942131",
     "exception": false,
     "start_time": "2024-03-21T12:55:26.781768",
     "status": "completed"
    },
    "tags": []
   },
   "outputs": [
    {
     "data": {
      "text/plain": [
       "4800"
      ]
     },
     "execution_count": 78,
     "metadata": {},
     "output_type": "execute_result"
    }
   ],
   "source": [
    "len(X_val)"
   ]
  },
  {
   "cell_type": "code",
   "execution_count": 79,
   "metadata": {
    "execution": {
     "iopub.execute_input": "2024-03-21T12:55:27.208969Z",
     "iopub.status.busy": "2024-03-21T12:55:27.208229Z",
     "iopub.status.idle": "2024-03-21T12:55:27.212322Z",
     "shell.execute_reply": "2024-03-21T12:55:27.211687Z",
     "shell.execute_reply.started": "2024-03-21T12:25:13.699650Z"
    },
    "papermill": {
     "duration": 0.140786,
     "end_time": "2024-03-21T12:55:27.212426",
     "exception": false,
     "start_time": "2024-03-21T12:55:27.071640",
     "status": "completed"
    },
    "tags": []
   },
   "outputs": [
    {
     "data": {
      "text/plain": [
       "(4800, 28, 28, 1)"
      ]
     },
     "execution_count": 79,
     "metadata": {},
     "output_type": "execute_result"
    }
   ],
   "source": [
    "#y_train[c0:c0+batch_size]\n",
    "X_val.shape\n"
   ]
  },
  {
   "cell_type": "code",
   "execution_count": 80,
   "metadata": {
    "execution": {
     "iopub.execute_input": "2024-03-21T12:55:27.487759Z",
     "iopub.status.busy": "2024-03-21T12:55:27.487034Z",
     "iopub.status.idle": "2024-03-21T12:55:27.490273Z",
     "shell.execute_reply": "2024-03-21T12:55:27.490713Z",
     "shell.execute_reply.started": "2024-03-21T12:25:15.388844Z"
    },
    "papermill": {
     "duration": 0.141477,
     "end_time": "2024-03-21T12:55:27.490852",
     "exception": false,
     "start_time": "2024-03-21T12:55:27.349375",
     "status": "completed"
    },
    "tags": []
   },
   "outputs": [
    {
     "data": {
      "text/plain": [
       "(4800,)"
      ]
     },
     "execution_count": 80,
     "metadata": {},
     "output_type": "execute_result"
    }
   ],
   "source": [
    "Y_val.shape"
   ]
  },
  {
   "cell_type": "code",
   "execution_count": 81,
   "metadata": {
    "execution": {
     "iopub.execute_input": "2024-03-21T12:55:27.775275Z",
     "iopub.status.busy": "2024-03-21T12:55:27.774641Z",
     "iopub.status.idle": "2024-03-21T13:11:14.085155Z",
     "shell.execute_reply": "2024-03-21T13:11:14.084377Z",
     "shell.execute_reply.started": "2024-03-21T12:25:15.543889Z"
    },
    "papermill": {
     "duration": 946.464109,
     "end_time": "2024-03-21T13:11:14.085291",
     "exception": false,
     "start_time": "2024-03-21T12:55:27.621182",
     "status": "completed"
    },
    "tags": []
   },
   "outputs": [
    {
     "name": "stdout",
     "output_type": "stream",
     "text": [
      "Epoch: 1  Val accuracy: 98.7708%  Loss: 0.016178 (improved)\n",
      "Epoch: 2  Val accuracy: 98.8958%  Loss: 0.013131 (improved)\n",
      "Epoch: 3  Val accuracy: 98.9583%  Loss: 0.012227 (improved)\n",
      "Epoch: 4  Val accuracy: 99.0417%  Loss: 0.012028 (improved)\n",
      "Epoch: 5  Val accuracy: 98.9375%  Loss: 0.011913 (improved)\n",
      "Epoch: 6  Val accuracy: 98.8958%  Loss: 0.012194\n",
      "Epoch: 7  Val accuracy: 99.0000%  Loss: 0.012261\n",
      "Epoch: 8  Val accuracy: 98.9792%  Loss: 0.012531\n",
      "Epoch: 9  Val accuracy: 98.8125%  Loss: 0.013512\n",
      "Epoch: 10  Val accuracy: 98.9583%  Loss: 0.012509\n"
     ]
    }
   ],
   "source": [
    "n_epochs = 10\n",
    "batch_size = 50\n",
    "restore_checkpoint = True\n",
    "\n",
    "n_iterations_per_epoch = len(X_train) // batch_size\n",
    "n_iterations_validation = len(X_val) // batch_size\n",
    "best_loss_val = np.infty\n",
    "checkpoint_path = \"./my_capsule_network\"\n",
    "\n",
    "with tf.compat.v1.Session() as sess:\n",
    "    if restore_checkpoint and tf.compat.v1.train.checkpoint_exists(checkpoint_path):\n",
    "        saver.restore(sess, checkpoint_path)\n",
    "    else:\n",
    "        init.run()\n",
    "\n",
    "    for epoch in range(n_epochs):\n",
    "        b0 = 0\n",
    "        c0 = 0\n",
    "        for iteration in range(1, n_iterations_per_epoch + 1):\n",
    "            X_batch, y_batch = X_train[b0:b0+batch_size], Y_train[b0:b0+batch_size]\n",
    "            # Run the training operation and measure the loss:\n",
    "            _, loss_train = sess.run(\n",
    "                [training_op, loss],\n",
    "                feed_dict={X: X_batch.reshape([-1, 28, 28, 1]),\n",
    "                           y: y_batch,\n",
    "                           mask_with_labels: True})\n",
    "            print(\"\\rIteration: {}/{} ({:.1f}%)  Loss: {:.5f}\".format(\n",
    "                      iteration, n_iterations_per_epoch,\n",
    "                      iteration * 100 / n_iterations_per_epoch,\n",
    "                      loss_train),\n",
    "                  end=\"\")\n",
    "            b0+=batch_size\n",
    "\n",
    "        # At the end of each epoch,\n",
    "        # measure the validation loss and accuracy:\n",
    "        loss_vals = []\n",
    "        acc_vals = []\n",
    "        for iteration in range(1, n_iterations_validation + 1):\n",
    "            X_batch, y_batch = X_val[c0:c0+batch_size], Y_val[c0:c0+batch_size]\n",
    "            loss_val, acc_val = sess.run(\n",
    "                    [loss, accuracy],\n",
    "                    feed_dict={X: X_batch.reshape([-1, 28, 28, 1]),\n",
    "                               y: y_batch})\n",
    "            loss_vals.append(loss_val)\n",
    "            acc_vals.append(acc_val)\n",
    "            print(\"\\rEvaluating the model: {}/{} ({:.1f}%) {}\".format(\n",
    "                      iteration, n_iterations_validation,\n",
    "                      iteration * 100 / n_iterations_validation, c0),\n",
    "                  end=\" \" * 10)\n",
    "            c0+=batch_size\n",
    "        loss_val = np.mean(loss_vals)\n",
    "        acc_val = np.mean(acc_vals)\n",
    "        print(\"\\rEpoch: {}  Val accuracy: {:.4f}%  Loss: {:.6f}{}\".format(\n",
    "            epoch + 1, acc_val * 100, loss_val,\n",
    "            \" (improved)\" if loss_val < best_loss_val else \"\"))\n",
    "\n",
    "        # And save the model if it improved:\n",
    "        if loss_val < best_loss_val:\n",
    "            save_path = saver.save(sess, checkpoint_path)\n",
    "            best_loss_val = loss_val"
   ]
  },
  {
   "cell_type": "markdown",
   "metadata": {
    "papermill": {
     "duration": 1.423569,
     "end_time": "2024-03-21T13:11:16.939629",
     "exception": false,
     "start_time": "2024-03-21T13:11:15.516060",
     "status": "completed"
    },
    "tags": []
   },
   "source": [
    "# Evaluation"
   ]
  },
  {
   "cell_type": "code",
   "execution_count": 82,
   "metadata": {
    "execution": {
     "iopub.execute_input": "2024-03-21T13:11:19.792996Z",
     "iopub.status.busy": "2024-03-21T13:11:19.791949Z",
     "iopub.status.idle": "2024-03-21T13:11:24.671406Z",
     "shell.execute_reply": "2024-03-21T13:11:24.670905Z",
     "shell.execute_reply.started": "2024-03-21T12:41:21.384309Z"
    },
    "papermill": {
     "duration": 6.329745,
     "end_time": "2024-03-21T13:11:24.671554",
     "exception": false,
     "start_time": "2024-03-21T13:11:18.341809",
     "status": "completed"
    },
    "tags": []
   },
   "outputs": [
    {
     "name": "stdout",
     "output_type": "stream",
     "text": [
      "Final test accuracy: 99.1100%  Loss: 0.010724\n"
     ]
    }
   ],
   "source": [
    "b0 = 0\n",
    "n_iterations_test = len(X_test) // batch_size\n",
    "\n",
    "with tf.compat.v1.Session() as sess:\n",
    "    saver.restore(sess, checkpoint_path)\n",
    "\n",
    "    loss_tests = []\n",
    "    acc_tests = []\n",
    "    for iteration in range(1, n_iterations_test + 1):\n",
    "        X_batch, y_batch = X_test[b0:b0+batch_size], Y_test[b0:b0+batch_size]\n",
    "        loss_test, acc_test = sess.run(\n",
    "                [loss, accuracy],\n",
    "                feed_dict={X: X_batch.reshape([-1, 28, 28, 1]),\n",
    "                           y: y_batch})\n",
    "        loss_tests.append(loss_test)\n",
    "        acc_tests.append(acc_test)\n",
    "        print(\"\\rEvaluating the model: {}/{} ({:.1f}%)\".format(\n",
    "                  iteration, n_iterations_test,\n",
    "                  iteration * 100 / n_iterations_test),\n",
    "              end=\" \" * 10)\n",
    "        b0+=batch_size\n",
    "    loss_test = np.mean(loss_tests)\n",
    "    acc_test = np.mean(acc_tests)\n",
    "    print(\"\\rFinal test accuracy: {:.4f}%  Loss: {:.6f}\".format(\n",
    "        acc_test * 100, loss_test))"
   ]
  },
  {
   "cell_type": "markdown",
   "metadata": {
    "papermill": {
     "duration": 1.487572,
     "end_time": "2024-03-21T13:11:27.573879",
     "exception": false,
     "start_time": "2024-03-21T13:11:26.086307",
     "status": "completed"
    },
    "tags": []
   },
   "source": [
    "# Predictions\n",
    "\n",
    "Now let's make some predictions! We first fix a few images from the test set, then we start a session, restore the trained model, evaluate caps2_output to get the capsule network's output vectors, decoder_output to get the reconstructions, and y_pred to get the class predictions:\n"
   ]
  },
  {
   "cell_type": "code",
   "execution_count": 83,
   "metadata": {
    "execution": {
     "iopub.execute_input": "2024-03-21T13:11:30.401636Z",
     "iopub.status.busy": "2024-03-21T13:11:30.401002Z",
     "iopub.status.idle": "2024-03-21T13:11:30.613518Z",
     "shell.execute_reply": "2024-03-21T13:11:30.612923Z",
     "shell.execute_reply.started": "2024-03-21T12:41:26.336529Z"
    },
    "papermill": {
     "duration": 1.630513,
     "end_time": "2024-03-21T13:11:30.613637",
     "exception": false,
     "start_time": "2024-03-21T13:11:28.983124",
     "status": "completed"
    },
    "tags": []
   },
   "outputs": [],
   "source": [
    "n_samples = 5\n",
    "\n",
    "sample_images = X_test[:n_samples].reshape([-1, 28, 28, 1])\n",
    "\n",
    "with tf.compat.v1.Session() as sess:\n",
    "    saver.restore(sess, checkpoint_path)\n",
    "    caps2_output_value, decoder_output_value, y_pred_value = sess.run(\n",
    "            [caps2_output, decoder_output, y_pred],\n",
    "            feed_dict={X: sample_images,\n",
    "                       y: np.array([], dtype=np.int64)})"
   ]
  },
  {
   "cell_type": "code",
   "execution_count": 84,
   "metadata": {
    "execution": {
     "iopub.execute_input": "2024-03-21T13:11:33.516641Z",
     "iopub.status.busy": "2024-03-21T13:11:33.515850Z",
     "iopub.status.idle": "2024-03-21T13:11:33.519639Z",
     "shell.execute_reply": "2024-03-21T13:11:33.519099Z",
     "shell.execute_reply.started": "2024-03-21T12:45:34.532959Z"
    },
    "papermill": {
     "duration": 1.417796,
     "end_time": "2024-03-21T13:11:33.519742",
     "exception": false,
     "start_time": "2024-03-21T13:11:32.101946",
     "status": "completed"
    },
    "tags": []
   },
   "outputs": [
    {
     "data": {
      "text/plain": [
       "(5, 28, 28, 1)"
      ]
     },
     "execution_count": 84,
     "metadata": {},
     "output_type": "execute_result"
    }
   ],
   "source": [
    "sample_images.shape"
   ]
  },
  {
   "cell_type": "markdown",
   "metadata": {
    "papermill": {
     "duration": 1.414914,
     "end_time": "2024-03-21T13:11:36.341897",
     "exception": false,
     "start_time": "2024-03-21T13:11:34.926983",
     "status": "completed"
    },
    "tags": []
   },
   "source": [
    "\n",
    "\n",
    "INFO:tensorflow:Restoring parameters from ./my_capsule_network\n",
    "\n",
    "Note: we feed y with an empty array, but TensorFlow will not use it, as explained earlier.\n",
    "\n",
    "And now let's plot the images and their labels, followed by the corresponding reconstructions and predictions:\n"
   ]
  },
  {
   "cell_type": "code",
   "execution_count": 85,
   "metadata": {
    "execution": {
     "iopub.execute_input": "2024-03-21T13:11:39.202236Z",
     "iopub.status.busy": "2024-03-21T13:11:39.201581Z",
     "iopub.status.idle": "2024-03-21T13:11:39.204644Z",
     "shell.execute_reply": "2024-03-21T13:11:39.205084Z",
     "shell.execute_reply.started": "2024-03-21T12:45:40.427165Z"
    },
    "papermill": {
     "duration": 1.418669,
     "end_time": "2024-03-21T13:11:39.205214",
     "exception": false,
     "start_time": "2024-03-21T13:11:37.786545",
     "status": "completed"
    },
    "tags": []
   },
   "outputs": [
    {
     "data": {
      "text/plain": [
       "(5, 28, 28)"
      ]
     },
     "execution_count": 85,
     "metadata": {},
     "output_type": "execute_result"
    }
   ],
   "source": [
    "decoder_output_value.reshape([-1, 28, 28]).shape\n",
    "#reconstructions.shape"
   ]
  },
  {
   "cell_type": "code",
   "execution_count": 86,
   "metadata": {
    "execution": {
     "iopub.execute_input": "2024-03-21T13:11:42.072484Z",
     "iopub.status.busy": "2024-03-21T13:11:42.071401Z",
     "iopub.status.idle": "2024-03-21T13:11:42.437722Z",
     "shell.execute_reply": "2024-03-21T13:11:42.437072Z",
     "shell.execute_reply.started": "2024-03-21T12:45:40.886005Z"
    },
    "papermill": {
     "duration": 1.79118,
     "end_time": "2024-03-21T13:11:42.437847",
     "exception": false,
     "start_time": "2024-03-21T13:11:40.646667",
     "status": "completed"
    },
    "tags": []
   },
   "outputs": [
    {
     "data": {
      "image/png": "[encoded data removed]",
      "text/plain": [
       "<Figure size 720x216 with 5 Axes>"
      ]
     },
     "metadata": {
      "needs_background": "light"
     },
     "output_type": "display_data"
    },
    {
     "data": {
      "image/png": "[encoded data removed]",
      "text/plain": [
       "<Figure size 720x216 with 5 Axes>"
      ]
     },
     "metadata": {
      "needs_background": "light"
     },
     "output_type": "display_data"
    }
   ],
   "source": [
    "sample_images = sample_images.reshape(-1, 28, 28)\n",
    "reconstructions = decoder_output_value.reshape([-1, 28, 28])\n",
    "\n",
    "plt.figure(figsize=(n_samples * 2, 3))\n",
    "for index in range(n_samples):\n",
    "    plt.subplot(1, n_samples, index + 1)\n",
    "    plt.imshow(sample_images[index], cmap=\"binary\")\n",
    "    plt.title(\"Label:\" + str(Y_test[index]))\n",
    "    plt.axis(\"off\")\n",
    "\n",
    "plt.show()\n",
    "\n",
    "plt.figure(figsize=(n_samples * 2, 3))\n",
    "for index in range(n_samples):\n",
    "    plt.subplot(1, n_samples, index + 1)\n",
    "    plt.title(\"Predicted:\" + str(y_pred_value[index]))\n",
    "    plt.imshow(reconstructions[index], cmap=\"binary\")\n",
    "    plt.axis(\"off\")\n",
    "    \n",
    "plt.show()"
   ]
  },
  {
   "cell_type": "markdown",
   "metadata": {
    "papermill": {
     "duration": 1.514478,
     "end_time": "2024-03-21T13:11:45.363972",
     "exception": false,
     "start_time": "2024-03-21T13:11:43.849494",
     "status": "completed"
    },
    "tags": []
   },
   "source": [
    "\n",
    "# Interpreting the Output Vectors\n",
    "\n",
    "Let's tweak the output vectors to see what their pose parameters represent.\n",
    "\n",
    "First, let's check the shape of the cap2_output_value NumPy array:\n"
   ]
  },
  {
   "cell_type": "code",
   "execution_count": 87,
   "metadata": {
    "execution": {
     "iopub.execute_input": "2024-03-21T13:11:48.284865Z",
     "iopub.status.busy": "2024-03-21T13:11:48.284045Z",
     "iopub.status.idle": "2024-03-21T13:11:48.287804Z",
     "shell.execute_reply": "2024-03-21T13:11:48.287280Z",
     "shell.execute_reply.started": "2024-03-21T12:45:53.461228Z"
    },
    "papermill": {
     "duration": 1.490442,
     "end_time": "2024-03-21T13:11:48.287923",
     "exception": false,
     "start_time": "2024-03-21T13:11:46.797481",
     "status": "completed"
    },
    "tags": []
   },
   "outputs": [
    {
     "data": {
      "text/plain": [
       "(5, 1, 10, 16, 1)"
      ]
     },
     "execution_count": 87,
     "metadata": {},
     "output_type": "execute_result"
    }
   ],
   "source": [
    "caps2_output_value.shape"
   ]
  },
  {
   "cell_type": "markdown",
   "metadata": {
    "papermill": {
     "duration": 1.412419,
     "end_time": "2024-03-21T13:11:51.123297",
     "exception": false,
     "start_time": "2024-03-21T13:11:49.710878",
     "status": "completed"
    },
    "tags": []
   },
   "source": [
    "\n",
    "\n",
    "Let's create a function that will tweak each of the 16 pose parameters (dimensions) in all output vectors. Each tweaked output vector will be identical to the original output vector, except that one of its pose parameters will be incremented by a value varying from -0.5 to 0.5. By default there will be 11 steps (-0.5, -0.4, ..., +0.4, +0.5). This function will return an array of shape (tweaked pose parameters=16, steps=11, batch size=5, 1, 10, 16, 1):\n"
   ]
  },
  {
   "cell_type": "code",
   "execution_count": 88,
   "metadata": {
    "execution": {
     "iopub.execute_input": "2024-03-21T13:11:53.976227Z",
     "iopub.status.busy": "2024-03-21T13:11:53.975643Z",
     "iopub.status.idle": "2024-03-21T13:11:53.978703Z",
     "shell.execute_reply": "2024-03-21T13:11:53.978095Z",
     "shell.execute_reply.started": "2024-03-21T12:45:55.378816Z"
    },
    "papermill": {
     "duration": 1.421087,
     "end_time": "2024-03-21T13:11:53.978808",
     "exception": false,
     "start_time": "2024-03-21T13:11:52.557721",
     "status": "completed"
    },
    "tags": []
   },
   "outputs": [],
   "source": [
    "def tweak_pose_parameters(output_vectors, min=-0.5, max=0.5, n_steps=11):\n",
    "    steps = np.linspace(min, max, n_steps) # -0.25, -0.15, ..., +0.25\n",
    "    pose_parameters = np.arange(caps2_n_dims) # 0, 1, ..., 15\n",
    "    tweaks = np.zeros([caps2_n_dims, n_steps, 1, 1, 1, caps2_n_dims, 1])\n",
    "    tweaks[pose_parameters, :, 0, 0, 0, pose_parameters, 0] = steps\n",
    "    output_vectors_expanded = output_vectors[np.newaxis, np.newaxis]\n",
    "    return tweaks + output_vectors_expanded"
   ]
  },
  {
   "cell_type": "markdown",
   "metadata": {
    "papermill": {
     "duration": 1.460556,
     "end_time": "2024-03-21T13:11:56.921685",
     "exception": false,
     "start_time": "2024-03-21T13:11:55.461129",
     "status": "completed"
    },
    "tags": []
   },
   "source": [
    "Let's compute all the tweaked output vectors and reshape the result to (parameters×steps×instances, 1, 10, 16, 1) so we can feed the array to the decoder:"
   ]
  },
  {
   "cell_type": "code",
   "execution_count": 89,
   "metadata": {
    "execution": {
     "iopub.execute_input": "2024-03-21T13:11:59.782756Z",
     "iopub.status.busy": "2024-03-21T13:11:59.782126Z",
     "iopub.status.idle": "2024-03-21T13:11:59.786037Z",
     "shell.execute_reply": "2024-03-21T13:11:59.785438Z",
     "shell.execute_reply.started": "2024-03-21T12:45:56.603562Z"
    },
    "papermill": {
     "duration": 1.423475,
     "end_time": "2024-03-21T13:11:59.786142",
     "exception": false,
     "start_time": "2024-03-21T13:11:58.362667",
     "status": "completed"
    },
    "tags": []
   },
   "outputs": [],
   "source": [
    "n_steps = 11\n",
    "\n",
    "tweaked_vectors = tweak_pose_parameters(caps2_output_value, n_steps=n_steps)\n",
    "tweaked_vectors_reshaped = tweaked_vectors.reshape(\n",
    "    [-1, 1, caps2_n_caps, caps2_n_dims, 1])"
   ]
  },
  {
   "cell_type": "markdown",
   "metadata": {
    "papermill": {
     "duration": 1.484513,
     "end_time": "2024-03-21T13:12:02.715786",
     "exception": false,
     "start_time": "2024-03-21T13:12:01.231273",
     "status": "completed"
    },
    "tags": []
   },
   "source": [
    "Now let's feed these tweaked output vectors to the decoder and get the reconstructions it produces:"
   ]
  },
  {
   "cell_type": "code",
   "execution_count": 90,
   "metadata": {
    "execution": {
     "iopub.execute_input": "2024-03-21T13:12:05.597858Z",
     "iopub.status.busy": "2024-03-21T13:12:05.597171Z",
     "iopub.status.idle": "2024-03-21T13:12:05.758810Z",
     "shell.execute_reply": "2024-03-21T13:12:05.759307Z",
     "shell.execute_reply.started": "2024-03-21T12:45:57.932733Z"
    },
    "papermill": {
     "duration": 1.619742,
     "end_time": "2024-03-21T13:12:05.759480",
     "exception": false,
     "start_time": "2024-03-21T13:12:04.139738",
     "status": "completed"
    },
    "tags": []
   },
   "outputs": [],
   "source": [
    "tweak_labels = np.tile(Y_test[:n_samples], caps2_n_dims * n_steps)\n",
    "\n",
    "with tf.compat.v1.Session() as sess:\n",
    "    saver.restore(sess, checkpoint_path)\n",
    "    decoder_output_value = sess.run(\n",
    "            decoder_output,\n",
    "            feed_dict={caps2_output: tweaked_vectors_reshaped,\n",
    "                       mask_with_labels: True,\n",
    "                       y: tweak_labels})"
   ]
  },
  {
   "cell_type": "markdown",
   "metadata": {
    "papermill": {
     "duration": 1.425504,
     "end_time": "2024-03-21T13:12:08.631661",
     "exception": false,
     "start_time": "2024-03-21T13:12:07.206157",
     "status": "completed"
    },
    "tags": []
   },
   "source": [
    "INFO:tensorflow:Restoring parameters from ./my_capsule_network\n",
    "\n",
    "Let's reshape the decoder's output so we can easily iterate on the output dimension, the tweak steps, and the instances:\n"
   ]
  },
  {
   "cell_type": "code",
   "execution_count": 91,
   "metadata": {
    "execution": {
     "iopub.execute_input": "2024-03-21T13:12:11.459251Z",
     "iopub.status.busy": "2024-03-21T13:12:11.458572Z",
     "iopub.status.idle": "2024-03-21T13:12:11.461790Z",
     "shell.execute_reply": "2024-03-21T13:12:11.461267Z",
     "shell.execute_reply.started": "2024-03-21T12:45:59.690993Z"
    },
    "papermill": {
     "duration": 1.417325,
     "end_time": "2024-03-21T13:12:11.461893",
     "exception": false,
     "start_time": "2024-03-21T13:12:10.044568",
     "status": "completed"
    },
    "tags": []
   },
   "outputs": [],
   "source": [
    "tweak_reconstructions = decoder_output_value.reshape(\n",
    "        [caps2_n_dims, n_steps, n_samples, 28, 28])"
   ]
  },
  {
   "cell_type": "markdown",
   "metadata": {
    "papermill": {
     "duration": 1.413237,
     "end_time": "2024-03-21T13:12:14.317677",
     "exception": false,
     "start_time": "2024-03-21T13:12:12.904440",
     "status": "completed"
    },
    "tags": []
   },
   "source": [
    "Lastly, let's plot all the reconstructions, for the first 3 output dimensions, for each tweaking step (column) and each digit (row):"
   ]
  },
  {
   "cell_type": "code",
   "execution_count": 92,
   "metadata": {
    "execution": {
     "iopub.execute_input": "2024-03-21T13:12:17.243681Z",
     "iopub.status.busy": "2024-03-21T13:12:17.243001Z",
     "iopub.status.idle": "2024-03-21T13:12:22.271930Z",
     "shell.execute_reply": "2024-03-21T13:12:22.272413Z",
     "shell.execute_reply.started": "2024-03-21T12:46:06.281109Z"
    },
    "papermill": {
     "duration": 6.48471,
     "end_time": "2024-03-21T13:12:22.272565",
     "exception": false,
     "start_time": "2024-03-21T13:12:15.787855",
     "status": "completed"
    },
    "tags": []
   },
   "outputs": [
    {
     "name": "stdout",
     "output_type": "stream",
     "text": [
      "Tweaking output dimension #0\n"
     ]
    },
    {
     "data": {
      "image/png": "[encoded data removed]",
      "text/plain": [
       "<Figure size 660x240 with 55 Axes>"
      ]
     },
     "metadata": {
      "needs_background": "light"
     },
     "output_type": "display_data"
    },
    {
     "name": "stdout",
     "output_type": "stream",
     "text": [
      "Tweaking output dimension #1\n"
     ]
    },
    {
     "data": {
      "image/png": "[encoded data removed]",
      "text/plain": [
       "<Figure size 660x240 with 55 Axes>"
      ]
     },
     "metadata": {
      "needs_background": "light"
     },
     "output_type": "display_data"
    },
    {
     "name": "stdout",
     "output_type": "stream",
     "text": [
      "Tweaking output dimension #2\n"
     ]
    },
    {
     "data": {
      "image/png": "[encoded data removed]",
      "text/plain": [
       "<Figure size 660x240 with 55 Axes>"
      ]
     },
     "metadata": {
      "needs_background": "light"
     },
     "output_type": "display_data"
    }
   ],
   "source": [
    "for dim in range(3):\n",
    "    print(\"Tweaking output dimension #{}\".format(dim))\n",
    "    plt.figure(figsize=(n_steps / 1.2, n_samples / 1.5))\n",
    "    for row in range(n_samples):\n",
    "        for col in range(n_steps):\n",
    "            plt.subplot(n_samples, n_steps, row * n_steps + col + 1)\n",
    "            plt.imshow(tweak_reconstructions[dim, col, row], cmap=\"binary\")\n",
    "            plt.axis(\"off\")\n",
    "    plt.show()"
   ]
  },
  {
   "cell_type": "markdown",
   "metadata": {
    "papermill": {
     "duration": 1.422039,
     "end_time": "2024-03-21T13:12:25.123145",
     "exception": false,
     "start_time": "2024-03-21T13:12:23.701106",
     "status": "completed"
    },
    "tags": []
   },
   "source": [
    "# Conclusion¶\n",
    "\n",
    "I tried to make the code in this notebook as flat and linear as possible, to make it easier to follow, but of course in practice you would want to wrap the code in nice reusable functions and classes. For example, you could try implementing your own PrimaryCapsuleLayer, and DenseRoutingCapsuleLayer classes, with parameters for the number of capsules, the number of routing iterations, whether to use a dynamic loop or a static loop, and so on. For an example a modular implementation of Capsule Networks based on TensorFlow, take a look at the CapsNet-TensorFlow project.\n",
    "\n",
    "That's all for today, I hope you enjoyed this notebook!\n"
   ]
  },
  {
   "cell_type": "markdown",
   "metadata": {
    "papermill": {
     "duration": 1.474782,
     "end_time": "2024-03-21T13:12:28.063076",
     "exception": false,
     "start_time": "2024-03-21T13:12:26.588294",
     "status": "completed"
    },
    "tags": []
   },
   "source": []
  }
 ],
 "metadata": {
  "kaggle": {
   "accelerator": "nvidiaTeslaT4",
   "dataSources": [],
   "dockerImageVersionId": 30008,
   "isGpuEnabled": true,
   "isInternetEnabled": true,
   "language": "python",
   "sourceType": "notebook"
  },
  "kernelspec": {
   "display_name": "Python 3",
   "language": "python",
   "name": "python3"
  },
  "language_info": {
   "codemirror_mode": {
    "name": "ipython",
    "version": 3
   },
   "file_extension": ".py",
   "mimetype": "text/x-python",
   "name": "python",
   "nbconvert_exporter": "python",
   "pygments_lexer": "ipython3",
   "version": "3.7.6"
  },
  "papermill": {
   "duration": 1081.4035,
   "end_time": "2024-03-21T13:12:30.530145",
   "environment_variables": {},
   "exception": null,
   "input_path": "__notebook__.ipynb",
   "output_path": "__notebook__.ipynb",
   "parameters": {},
   "start_time": "2024-03-21T12:54:29.126645",
   "version": "2.1.0"
  }
 },
 "nbformat": 4,
 "nbformat_minor": 4
}
